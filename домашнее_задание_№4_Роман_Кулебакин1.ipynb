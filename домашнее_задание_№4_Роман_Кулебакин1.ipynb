{
  "cells": [
    {
      "cell_type": "markdown",
      "metadata": {
        "id": "view-in-github",
        "colab_type": "text"
      },
      "source": [
        "<a href=\"https://colab.research.google.com/github/Roman37373/hw/blob/main/%D0%B4%D0%BE%D0%BC%D0%B0%D1%88%D0%BD%D0%B5%D0%B5_%D0%B7%D0%B0%D0%B4%D0%B0%D0%BD%D0%B8%D0%B5_%E2%84%964_%D0%A0%D0%BE%D0%BC%D0%B0%D0%BD_%D0%9A%D1%83%D0%BB%D0%B5%D0%B1%D0%B0%D0%BA%D0%B8%D0%BD1.ipynb\" target=\"_parent\"><img src=\"https://colab.research.google.com/assets/colab-badge.svg\" alt=\"Open In Colab\"/></a>"
      ]
    },
    {
      "cell_type": "code",
      "execution_count": 2,
      "id": "b2748dff-2914-4829-b21b-29ba73805351",
      "metadata": {
        "id": "b2748dff-2914-4829-b21b-29ba73805351"
      },
      "outputs": [],
      "source": [
        "import pandas as pd\n",
        "\n",
        "import matplotlib.pyplot as plt\n",
        "import seaborn as sns\n",
        "import numpy as np"
      ]
    },
    {
      "cell_type": "code",
      "execution_count": 5,
      "id": "3a6e6123-4ef7-4e16-8af3-54e7964564a7",
      "metadata": {
        "id": "3a6e6123-4ef7-4e16-8af3-54e7964564a7"
      },
      "outputs": [],
      "source": [
        "# train_df.csv не загружал на github из-за большого размера файла\n",
        "train_df = pd.read_csv('data/train.csv')\n",
        "#lectures_df = pd.read_csv('sample_data/lectures.csv')\n",
        "#questions_df = pd.read_csv('sample_data/questions.csv')"
      ]
    },
    {
      "cell_type": "code",
      "execution_count": null,
      "id": "17ac9065-6548-462c-a8e9-86c2fbb94519",
      "metadata": {
        "id": "17ac9065-6548-462c-a8e9-86c2fbb94519"
      },
      "outputs": [],
      "source": [
  
        "lectures_df = pd.read_csv('https://raw.githubusercontent.com/Roman37373/hw/refs/heads/main/lectures.csv')\n",
        "questions_df = pd.read_csv('https://raw.githubusercontent.com/Roman37373/hw/refs/heads/main/questions.csv')"
      ]
    },
    {
      "cell_type": "markdown",
      "id": "9bbc75e7-9803-4952-9da2-2d4bf0788859",
      "metadata": {
        "id": "9bbc75e7-9803-4952-9da2-2d4bf0788859"
      },
      "source": [
        "# Загрузка и исследование данных\n",
        "## train"
      ]
    },
    {
      "cell_type": "code",
      "execution_count": null,
      "id": "87a1db7c-1aa4-4adf-bd5a-b752d0a45544",
      "metadata": {
        "id": "87a1db7c-1aa4-4adf-bd5a-b752d0a45544",
        "outputId": "c5913621-be5c-47dc-c40e-cf17be9f7991"
      },
      "outputs": [
        {
          "data": {
            "text/html": [
              "<div>\n",
              "<style scoped>\n",
              "    .dataframe tbody tr th:only-of-type {\n",
              "        vertical-align: middle;\n",
              "    }\n",
              "\n",
              "    .dataframe tbody tr th {\n",
              "        vertical-align: top;\n",
              "    }\n",
              "\n",
              "    .dataframe thead th {\n",
              "        text-align: right;\n",
              "    }\n",
              "</style>\n",
              "<table border=\"1\" class=\"dataframe\">\n",
              "  <thead>\n",
              "    <tr style=\"text-align: right;\">\n",
              "      <th></th>\n",
              "      <th>row_id</th>\n",
              "      <th>timestamp</th>\n",
              "      <th>user_id</th>\n",
              "      <th>content_id</th>\n",
              "      <th>content_type_id</th>\n",
              "      <th>task_container_id</th>\n",
              "      <th>user_answer</th>\n",
              "      <th>answered_correctly</th>\n",
              "      <th>prior_question_elapsed_time</th>\n",
              "      <th>prior_question_had_explanation</th>\n",
              "    </tr>\n",
              "  </thead>\n",
              "  <tbody>\n",
              "    <tr>\n",
              "      <th>0</th>\n",
              "      <td>0</td>\n",
              "      <td>0</td>\n",
              "      <td>115</td>\n",
              "      <td>5692</td>\n",
              "      <td>0</td>\n",
              "      <td>1</td>\n",
              "      <td>3</td>\n",
              "      <td>1</td>\n",
              "      <td>NaN</td>\n",
              "      <td>NaN</td>\n",
              "    </tr>\n",
              "    <tr>\n",
              "      <th>1</th>\n",
              "      <td>1</td>\n",
              "      <td>56943</td>\n",
              "      <td>115</td>\n",
              "      <td>5716</td>\n",
              "      <td>0</td>\n",
              "      <td>2</td>\n",
              "      <td>2</td>\n",
              "      <td>1</td>\n",
              "      <td>37000.0</td>\n",
              "      <td>False</td>\n",
              "    </tr>\n",
              "    <tr>\n",
              "      <th>2</th>\n",
              "      <td>2</td>\n",
              "      <td>118363</td>\n",
              "      <td>115</td>\n",
              "      <td>128</td>\n",
              "      <td>0</td>\n",
              "      <td>0</td>\n",
              "      <td>0</td>\n",
              "      <td>1</td>\n",
              "      <td>55000.0</td>\n",
              "      <td>False</td>\n",
              "    </tr>\n",
              "    <tr>\n",
              "      <th>3</th>\n",
              "      <td>3</td>\n",
              "      <td>131167</td>\n",
              "      <td>115</td>\n",
              "      <td>7860</td>\n",
              "      <td>0</td>\n",
              "      <td>3</td>\n",
              "      <td>0</td>\n",
              "      <td>1</td>\n",
              "      <td>19000.0</td>\n",
              "      <td>False</td>\n",
              "    </tr>\n",
              "    <tr>\n",
              "      <th>4</th>\n",
              "      <td>4</td>\n",
              "      <td>137965</td>\n",
              "      <td>115</td>\n",
              "      <td>7922</td>\n",
              "      <td>0</td>\n",
              "      <td>4</td>\n",
              "      <td>1</td>\n",
              "      <td>1</td>\n",
              "      <td>11000.0</td>\n",
              "      <td>False</td>\n",
              "    </tr>\n",
              "  </tbody>\n",
              "</table>\n",
              "</div>"
            ],
            "text/plain": [
              "   row_id  timestamp  user_id  content_id  content_type_id  task_container_id  \\\n",
              "0       0          0      115        5692                0                  1   \n",
              "1       1      56943      115        5716                0                  2   \n",
              "2       2     118363      115         128                0                  0   \n",
              "3       3     131167      115        7860                0                  3   \n",
              "4       4     137965      115        7922                0                  4   \n",
              "\n",
              "   user_answer  answered_correctly  prior_question_elapsed_time  \\\n",
              "0            3                   1                          NaN   \n",
              "1            2                   1                      37000.0   \n",
              "2            0                   1                      55000.0   \n",
              "3            0                   1                      19000.0   \n",
              "4            1                   1                      11000.0   \n",
              "\n",
              "  prior_question_had_explanation  \n",
              "0                            NaN  \n",
              "1                          False  \n",
              "2                          False  \n",
              "3                          False  \n",
              "4                          False  "
            ]
          },
          "execution_count": 98,
          "metadata": {},
          "output_type": "execute_result"
        }
      ],
      "source": [
        "# проверяю успешность загрузки\n",
        "train_df.head()"
      ]
    },
    {
      "cell_type": "code",
      "execution_count": null,
      "id": "13878bd7-dce6-4532-9631-9627c8a15052",
      "metadata": {
        "id": "13878bd7-dce6-4532-9631-9627c8a15052",
        "outputId": "9999331a-ffe2-410a-bf5a-ae3a420fe76c"
      },
      "outputs": [
        {
          "data": {
            "text/html": [
              "<div>\n",
              "<style scoped>\n",
              "    .dataframe tbody tr th:only-of-type {\n",
              "        vertical-align: middle;\n",
              "    }\n",
              "\n",
              "    .dataframe tbody tr th {\n",
              "        vertical-align: top;\n",
              "    }\n",
              "\n",
              "    .dataframe thead th {\n",
              "        text-align: right;\n",
              "    }\n",
              "</style>\n",
              "<table border=\"1\" class=\"dataframe\">\n",
              "  <thead>\n",
              "    <tr style=\"text-align: right;\">\n",
              "      <th></th>\n",
              "      <th>row_id</th>\n",
              "      <th>timestamp</th>\n",
              "      <th>user_id</th>\n",
              "      <th>content_id</th>\n",
              "      <th>content_type_id</th>\n",
              "      <th>task_container_id</th>\n",
              "      <th>user_answer</th>\n",
              "      <th>answered_correctly</th>\n",
              "      <th>prior_question_elapsed_time</th>\n",
              "      <th>prior_question_had_explanation</th>\n",
              "    </tr>\n",
              "  </thead>\n",
              "  <tbody>\n",
              "    <tr>\n",
              "      <th>101230327</th>\n",
              "      <td>101230327</td>\n",
              "      <td>428564420</td>\n",
              "      <td>2147482888</td>\n",
              "      <td>3586</td>\n",
              "      <td>0</td>\n",
              "      <td>22</td>\n",
              "      <td>0</td>\n",
              "      <td>1</td>\n",
              "      <td>18000.0</td>\n",
              "      <td>True</td>\n",
              "    </tr>\n",
              "    <tr>\n",
              "      <th>101230328</th>\n",
              "      <td>101230328</td>\n",
              "      <td>428585000</td>\n",
              "      <td>2147482888</td>\n",
              "      <td>6341</td>\n",
              "      <td>0</td>\n",
              "      <td>23</td>\n",
              "      <td>3</td>\n",
              "      <td>1</td>\n",
              "      <td>14000.0</td>\n",
              "      <td>True</td>\n",
              "    </tr>\n",
              "    <tr>\n",
              "      <th>101230329</th>\n",
              "      <td>101230329</td>\n",
              "      <td>428613475</td>\n",
              "      <td>2147482888</td>\n",
              "      <td>4212</td>\n",
              "      <td>0</td>\n",
              "      <td>24</td>\n",
              "      <td>3</td>\n",
              "      <td>1</td>\n",
              "      <td>14000.0</td>\n",
              "      <td>True</td>\n",
              "    </tr>\n",
              "    <tr>\n",
              "      <th>101230330</th>\n",
              "      <td>101230330</td>\n",
              "      <td>428649406</td>\n",
              "      <td>2147482888</td>\n",
              "      <td>6343</td>\n",
              "      <td>0</td>\n",
              "      <td>25</td>\n",
              "      <td>1</td>\n",
              "      <td>0</td>\n",
              "      <td>22000.0</td>\n",
              "      <td>True</td>\n",
              "    </tr>\n",
              "    <tr>\n",
              "      <th>101230331</th>\n",
              "      <td>101230331</td>\n",
              "      <td>428692118</td>\n",
              "      <td>2147482888</td>\n",
              "      <td>7995</td>\n",
              "      <td>0</td>\n",
              "      <td>26</td>\n",
              "      <td>3</td>\n",
              "      <td>1</td>\n",
              "      <td>29000.0</td>\n",
              "      <td>True</td>\n",
              "    </tr>\n",
              "  </tbody>\n",
              "</table>\n",
              "</div>"
            ],
            "text/plain": [
              "              row_id  timestamp     user_id  content_id  content_type_id  \\\n",
              "101230327  101230327  428564420  2147482888        3586                0   \n",
              "101230328  101230328  428585000  2147482888        6341                0   \n",
              "101230329  101230329  428613475  2147482888        4212                0   \n",
              "101230330  101230330  428649406  2147482888        6343                0   \n",
              "101230331  101230331  428692118  2147482888        7995                0   \n",
              "\n",
              "           task_container_id  user_answer  answered_correctly  \\\n",
              "101230327                 22            0                   1   \n",
              "101230328                 23            3                   1   \n",
              "101230329                 24            3                   1   \n",
              "101230330                 25            1                   0   \n",
              "101230331                 26            3                   1   \n",
              "\n",
              "           prior_question_elapsed_time prior_question_had_explanation  \n",
              "101230327                      18000.0                           True  \n",
              "101230328                      14000.0                           True  \n",
              "101230329                      14000.0                           True  \n",
              "101230330                      22000.0                           True  \n",
              "101230331                      29000.0                           True  "
            ]
          },
          "execution_count": 86,
          "metadata": {},
          "output_type": "execute_result"
        }
      ],
      "source": [
        "train_df.tail()"
      ]
    },
    {
      "cell_type": "code",
      "execution_count": null,
      "id": "ece7b8b4-1a3e-49d9-8070-103fb1b48440",
      "metadata": {
        "id": "ece7b8b4-1a3e-49d9-8070-103fb1b48440",
        "outputId": "3b7afaea-b94b-442e-d1f4-7a27433f6c04"
      },
      "outputs": [
        {
          "data": {
            "text/plain": [
              "user_id\n",
              "801103753     17917\n",
              "1478712595    16914\n",
              "1842816145    16851\n",
              "455973631     16789\n",
              "1660941992    16777\n",
              "              ...  \n",
              "1032404821        1\n",
              "1409178561        1\n",
              "1137880031        1\n",
              "1777952220        1\n",
              "1071441751        1\n",
              "Name: count, Length: 393656, dtype: int64"
            ]
          },
          "execution_count": 11,
          "metadata": {},
          "output_type": "execute_result"
        }
      ],
      "source": [
        "# оцениваю количество пользователей\n",
        "train_df['user_id'].value_counts()"
      ]
    },
    {
      "cell_type": "code",
      "execution_count": null,
      "id": "454a4e2a-775f-4ab0-9ffb-8b361bf52876",
      "metadata": {
        "id": "454a4e2a-775f-4ab0-9ffb-8b361bf52876",
        "outputId": "9b49a2d9-dd6e-4d68-a31a-5c6314c27d4d"
      },
      "outputs": [
        {
          "data": {
            "text/plain": [
              "(101230332, 10)"
            ]
          },
          "execution_count": 13,
          "metadata": {},
          "output_type": "execute_result"
        }
      ],
      "source": [
        "# оцениваю размерность\n",
        "train_df.shape"
      ]
    },
    {
      "cell_type": "code",
      "execution_count": null,
      "id": "b8515f6a-0e7f-4cfa-a9ca-ab0c92de4f29",
      "metadata": {
        "id": "b8515f6a-0e7f-4cfa-a9ca-ab0c92de4f29",
        "outputId": "66c7ee02-ee85-4032-a215-50176f537132"
      },
      "outputs": [
        {
          "name": "stdout",
          "output_type": "stream",
          "text": [
            "<class 'pandas.core.frame.DataFrame'>\n",
            "RangeIndex: 101230332 entries, 0 to 101230331\n",
            "Data columns (total 10 columns):\n",
            " #   Column                          Dtype  \n",
            "---  ------                          -----  \n",
            " 0   row_id                          int64  \n",
            " 1   timestamp                       int64  \n",
            " 2   user_id                         int64  \n",
            " 3   content_id                      int64  \n",
            " 4   content_type_id                 int64  \n",
            " 5   task_container_id               int64  \n",
            " 6   user_answer                     int64  \n",
            " 7   answered_correctly              int64  \n",
            " 8   prior_question_elapsed_time     float64\n",
            " 9   prior_question_had_explanation  object \n",
            "dtypes: float64(1), int64(8), object(1)\n",
            "memory usage: 7.5+ GB\n"
          ]
        }
      ],
      "source": [
        "# оцениваю типы данных\n",
        "train_df.info()"
      ]
    },
    {
      "cell_type": "code",
      "execution_count": null,
      "id": "2e78481f-383d-4878-bff0-64ed039477a6",
      "metadata": {
        "id": "2e78481f-383d-4878-bff0-64ed039477a6",
        "outputId": "f42e3bc4-ffcf-409e-b6c8-94d43512fb42"
      },
      "outputs": [
        {
          "data": {
            "text/plain": [
              "content_id\n",
              "6116     213605\n",
              "6173     202106\n",
              "4120     199372\n",
              "175      195861\n",
              "7876     190170\n",
              "          ...  \n",
              "10033         1\n",
              "1486          1\n",
              "21169         1\n",
              "1485          1\n",
              "10005         1\n",
              "Name: count, Length: 13782, dtype: int64"
            ]
          },
          "execution_count": 17,
          "metadata": {},
          "output_type": "execute_result"
        }
      ],
      "source": [
        "# оцениваю id взаимодействия\n",
        "train_df['content_id'].value_counts()"
      ]
    },
    {
      "cell_type": "code",
      "execution_count": null,
      "id": "01f69a11-96ca-4dc1-8e8b-c7583f04c704",
      "metadata": {
        "id": "01f69a11-96ca-4dc1-8e8b-c7583f04c704",
        "outputId": "7033f89b-43a6-45f0-bcd4-5262a1b8b9cb"
      },
      "outputs": [
        {
          "data": {
            "text/plain": [
              "content_type_id\n",
              "0    99271300\n",
              "1     1959032\n",
              "Name: count, dtype: int64"
            ]
          },
          "execution_count": 19,
          "metadata": {},
          "output_type": "execute_result"
        }
      ],
      "source": [
        "# оцениваю количество форм взаимодействия\n",
        "train_df['content_type_id'].value_counts()"
      ]
    },
    {
      "cell_type": "code",
      "execution_count": null,
      "id": "a6e7b05f-b47c-4321-b5f7-285595694fb6",
      "metadata": {
        "id": "a6e7b05f-b47c-4321-b5f7-285595694fb6",
        "outputId": "397e30b1-b674-4021-cca3-b5cc5dda20c0"
      },
      "outputs": [
        {
          "data": {
            "text/plain": [
              "task_container_id\n",
              "14      804285\n",
              "15      798539\n",
              "4       692079\n",
              "5       690051\n",
              "6       688813\n",
              "         ...  \n",
              "9927       174\n",
              "9999       174\n",
              "9925       172\n",
              "9937       172\n",
              "9926       170\n",
              "Name: count, Length: 10000, dtype: int64"
            ]
          },
          "execution_count": 23,
          "metadata": {},
          "output_type": "execute_result"
        }
      ],
      "source": [
        "# количество id пакетов взаимодействия\n",
        "train_df['task_container_id'].value_counts()"
      ]
    },
    {
      "cell_type": "code",
      "execution_count": null,
      "id": "a341a770-fe9f-4f7c-9c45-78b8ad7a46d3",
      "metadata": {
        "id": "a341a770-fe9f-4f7c-9c45-78b8ad7a46d3",
        "outputId": "27a4afbd-bfb8-4ad9-89a8-5fa18e3ccda5"
      },
      "outputs": [
        {
          "data": {
            "text/plain": [
              "user_answer\n",
              " 0    28186489\n",
              " 1    26990007\n",
              " 3    26084784\n",
              " 2    18010020\n",
              "-1     1959032\n",
              "Name: count, dtype: int64"
            ]
          },
          "execution_count": 25,
          "metadata": {},
          "output_type": "execute_result"
        }
      ],
      "source": [
        "# оцениваю количество ответов пользователя\n",
        "train_df['user_answer'].value_counts()"
      ]
    },
    {
      "cell_type": "code",
      "execution_count": null,
      "id": "a68cbb3a-0c56-4043-83f4-521c493f8da2",
      "metadata": {
        "id": "a68cbb3a-0c56-4043-83f4-521c493f8da2",
        "outputId": "9a7b72dc-9eda-4c51-e5ef-31cc3a02569e"
      },
      "outputs": [
        {
          "data": {
            "text/plain": [
              "answered_correctly\n",
              " 1    65244627\n",
              " 0    34026673\n",
              "-1     1959032\n",
              "Name: count, dtype: int64"
            ]
          },
          "execution_count": 90,
          "metadata": {},
          "output_type": "execute_result"
        }
      ],
      "source": [
        "# оцениваю количество и качество ответов пользователя\n",
        "train_df['answered_correctly'].value_counts()"
      ]
    },
    {
      "cell_type": "code",
      "execution_count": null,
      "id": "a1b1358f-7ef8-484e-a615-1f47ad8696a6",
      "metadata": {
        "id": "a1b1358f-7ef8-484e-a615-1f47ad8696a6",
        "outputId": "2e033b06-b80c-4b1f-d494-08a3da8e5112"
      },
      "outputs": [
        {
          "data": {
            "text/plain": [
              "prior_question_elapsed_time\n",
              "17000.0     5154588\n",
              "16000.0     4752104\n",
              "18000.0     4670915\n",
              "19000.0     4017031\n",
              "15000.0     3640279\n",
              "             ...   \n",
              "252800.0          1\n",
              "297666.0          1\n",
              "283750.0          1\n",
              "270333.0          1\n",
              "256400.0          1\n",
              "Name: count, Length: 3258, dtype: int64"
            ]
          },
          "execution_count": 51,
          "metadata": {},
          "output_type": "execute_result"
        }
      ],
      "source": [
        "# оцениваю время затраченное на предыдущее взаимодействие\n",
        "train_df['prior_question_elapsed_time'].value_counts()"
      ]
    },
    {
      "cell_type": "code",
      "execution_count": null,
      "id": "c167a278-663d-4399-a902-fec098e8b8ad",
      "metadata": {
        "id": "c167a278-663d-4399-a902-fec098e8b8ad",
        "outputId": "915f90a4-2fa2-43bb-8b93-fa91fa1ee44b"
      },
      "outputs": [
        {
          "data": {
            "text/plain": [
              "prior_question_had_explanation\n",
              "True     89685560\n",
              "False    11152266\n",
              "Name: count, dtype: int64"
            ]
          },
          "execution_count": 100,
          "metadata": {},
          "output_type": "execute_result"
        }
      ],
      "source": [
        "# оцениваю время затраченное на предыдущее взаимодействие\n",
        "train_df['prior_question_had_explanation'].value_counts()"
      ]
    },
    {
      "cell_type": "code",
      "execution_count": null,
      "id": "cfdc2014-ff97-4b73-b9e9-0f85f549f866",
      "metadata": {
        "id": "cfdc2014-ff97-4b73-b9e9-0f85f549f866",
        "outputId": "e54833dc-e784-4f1a-e0e5-5a6f356905be"
      },
      "outputs": [
        {
          "data": {
            "text/plain": [
              "row_id                                  0\n",
              "timestamp                               0\n",
              "user_id                                 0\n",
              "content_id                              0\n",
              "content_type_id                         0\n",
              "task_container_id                       0\n",
              "user_answer                             0\n",
              "answered_correctly                      0\n",
              "prior_question_elapsed_time       2351538\n",
              "prior_question_had_explanation     392506\n",
              "dtype: int64"
            ]
          },
          "metadata": {},
          "output_type": "display_data"
        }
      ],
      "source": [
        "# оцениваю количество отсутствующих данных\n",
        "train_df.isnull().sum()"
      ]
    },
    {
      "cell_type": "markdown",
      "id": "a9f167d1-49ab-416f-834c-18cad35bc6c4",
      "metadata": {
        "id": "a9f167d1-49ab-416f-834c-18cad35bc6c4"
      },
      "source": [
        "# lectures"
      ]
    },
    {
      "cell_type": "code",
      "execution_count": 6,
      "id": "891c65c5-647f-4a8a-bad2-9287b6729b56",
      "metadata": {
        "colab": {
          "base_uri": "https://localhost:8080/",
          "height": 206
        },
        "id": "891c65c5-647f-4a8a-bad2-9287b6729b56",
        "outputId": "113c2cce-8241-45dc-83f5-e3e515224141"
      },
      "outputs": [
        {
          "output_type": "execute_result",
          "data": {
            "text/plain": [
              "   lecture_id  tag  part           type_of\n",
              "0          89  159     5           concept\n",
              "1         100   70     1           concept\n",
              "2         185   45     6           concept\n",
              "3         192   79     5  solving question\n",
              "4         317  156     5  solving question"
            ],
            "text/html": [
              "\n",
              "  <div id=\"df-de38d9d9-f3ef-4e12-8847-43f906a5179b\" class=\"colab-df-container\">\n",
              "    <div>\n",
              "<style scoped>\n",
              "    .dataframe tbody tr th:only-of-type {\n",
              "        vertical-align: middle;\n",
              "    }\n",
              "\n",
              "    .dataframe tbody tr th {\n",
              "        vertical-align: top;\n",
              "    }\n",
              "\n",
              "    .dataframe thead th {\n",
              "        text-align: right;\n",
              "    }\n",
              "</style>\n",
              "<table border=\"1\" class=\"dataframe\">\n",
              "  <thead>\n",
              "    <tr style=\"text-align: right;\">\n",
              "      <th></th>\n",
              "      <th>lecture_id</th>\n",
              "      <th>tag</th>\n",
              "      <th>part</th>\n",
              "      <th>type_of</th>\n",
              "    </tr>\n",
              "  </thead>\n",
              "  <tbody>\n",
              "    <tr>\n",
              "      <th>0</th>\n",
              "      <td>89</td>\n",
              "      <td>159</td>\n",
              "      <td>5</td>\n",
              "      <td>concept</td>\n",
              "    </tr>\n",
              "    <tr>\n",
              "      <th>1</th>\n",
              "      <td>100</td>\n",
              "      <td>70</td>\n",
              "      <td>1</td>\n",
              "      <td>concept</td>\n",
              "    </tr>\n",
              "    <tr>\n",
              "      <th>2</th>\n",
              "      <td>185</td>\n",
              "      <td>45</td>\n",
              "      <td>6</td>\n",
              "      <td>concept</td>\n",
              "    </tr>\n",
              "    <tr>\n",
              "      <th>3</th>\n",
              "      <td>192</td>\n",
              "      <td>79</td>\n",
              "      <td>5</td>\n",
              "      <td>solving question</td>\n",
              "    </tr>\n",
              "    <tr>\n",
              "      <th>4</th>\n",
              "      <td>317</td>\n",
              "      <td>156</td>\n",
              "      <td>5</td>\n",
              "      <td>solving question</td>\n",
              "    </tr>\n",
              "  </tbody>\n",
              "</table>\n",
              "</div>\n",
              "    <div class=\"colab-df-buttons\">\n",
              "\n",
              "  <div class=\"colab-df-container\">\n",
              "    <button class=\"colab-df-convert\" onclick=\"convertToInteractive('df-de38d9d9-f3ef-4e12-8847-43f906a5179b')\"\n",
              "            title=\"Convert this dataframe to an interactive table.\"\n",
              "            style=\"display:none;\">\n",
              "\n",
              "  <svg xmlns=\"http://www.w3.org/2000/svg\" height=\"24px\" viewBox=\"0 -960 960 960\">\n",
              "    <path d=\"M120-120v-720h720v720H120Zm60-500h600v-160H180v160Zm220 220h160v-160H400v160Zm0 220h160v-160H400v160ZM180-400h160v-160H180v160Zm440 0h160v-160H620v160ZM180-180h160v-160H180v160Zm440 0h160v-160H620v160Z\"/>\n",
              "  </svg>\n",
              "    </button>\n",
              "\n",
              "  <style>\n",
              "    .colab-df-container {\n",
              "      display:flex;\n",
              "      gap: 12px;\n",
              "    }\n",
              "\n",
              "    .colab-df-convert {\n",
              "      background-color: #E8F0FE;\n",
              "      border: none;\n",
              "      border-radius: 50%;\n",
              "      cursor: pointer;\n",
              "      display: none;\n",
              "      fill: #1967D2;\n",
              "      height: 32px;\n",
              "      padding: 0 0 0 0;\n",
              "      width: 32px;\n",
              "    }\n",
              "\n",
              "    .colab-df-convert:hover {\n",
              "      background-color: #E2EBFA;\n",
              "      box-shadow: 0px 1px 2px rgba(60, 64, 67, 0.3), 0px 1px 3px 1px rgba(60, 64, 67, 0.15);\n",
              "      fill: #174EA6;\n",
              "    }\n",
              "\n",
              "    .colab-df-buttons div {\n",
              "      margin-bottom: 4px;\n",
              "    }\n",
              "\n",
              "    [theme=dark] .colab-df-convert {\n",
              "      background-color: #3B4455;\n",
              "      fill: #D2E3FC;\n",
              "    }\n",
              "\n",
              "    [theme=dark] .colab-df-convert:hover {\n",
              "      background-color: #434B5C;\n",
              "      box-shadow: 0px 1px 3px 1px rgba(0, 0, 0, 0.15);\n",
              "      filter: drop-shadow(0px 1px 2px rgba(0, 0, 0, 0.3));\n",
              "      fill: #FFFFFF;\n",
              "    }\n",
              "  </style>\n",
              "\n",
              "    <script>\n",
              "      const buttonEl =\n",
              "        document.querySelector('#df-de38d9d9-f3ef-4e12-8847-43f906a5179b button.colab-df-convert');\n",
              "      buttonEl.style.display =\n",
              "        google.colab.kernel.accessAllowed ? 'block' : 'none';\n",
              "\n",
              "      async function convertToInteractive(key) {\n",
              "        const element = document.querySelector('#df-de38d9d9-f3ef-4e12-8847-43f906a5179b');\n",
              "        const dataTable =\n",
              "          await google.colab.kernel.invokeFunction('convertToInteractive',\n",
              "                                                    [key], {});\n",
              "        if (!dataTable) return;\n",
              "\n",
              "        const docLinkHtml = 'Like what you see? Visit the ' +\n",
              "          '<a target=\"_blank\" href=https://colab.research.google.com/notebooks/data_table.ipynb>data table notebook</a>'\n",
              "          + ' to learn more about interactive tables.';\n",
              "        element.innerHTML = '';\n",
              "        dataTable['output_type'] = 'display_data';\n",
              "        await google.colab.output.renderOutput(dataTable, element);\n",
              "        const docLink = document.createElement('div');\n",
              "        docLink.innerHTML = docLinkHtml;\n",
              "        element.appendChild(docLink);\n",
              "      }\n",
              "    </script>\n",
              "  </div>\n",
              "\n",
              "\n",
              "<div id=\"df-6ae721de-87f7-4103-a452-d11f82a16860\">\n",
              "  <button class=\"colab-df-quickchart\" onclick=\"quickchart('df-6ae721de-87f7-4103-a452-d11f82a16860')\"\n",
              "            title=\"Suggest charts\"\n",
              "            style=\"display:none;\">\n",
              "\n",
              "<svg xmlns=\"http://www.w3.org/2000/svg\" height=\"24px\"viewBox=\"0 0 24 24\"\n",
              "     width=\"24px\">\n",
              "    <g>\n",
              "        <path d=\"M19 3H5c-1.1 0-2 .9-2 2v14c0 1.1.9 2 2 2h14c1.1 0 2-.9 2-2V5c0-1.1-.9-2-2-2zM9 17H7v-7h2v7zm4 0h-2V7h2v10zm4 0h-2v-4h2v4z\"/>\n",
              "    </g>\n",
              "</svg>\n",
              "  </button>\n",
              "\n",
              "<style>\n",
              "  .colab-df-quickchart {\n",
              "      --bg-color: #E8F0FE;\n",
              "      --fill-color: #1967D2;\n",
              "      --hover-bg-color: #E2EBFA;\n",
              "      --hover-fill-color: #174EA6;\n",
              "      --disabled-fill-color: #AAA;\n",
              "      --disabled-bg-color: #DDD;\n",
              "  }\n",
              "\n",
              "  [theme=dark] .colab-df-quickchart {\n",
              "      --bg-color: #3B4455;\n",
              "      --fill-color: #D2E3FC;\n",
              "      --hover-bg-color: #434B5C;\n",
              "      --hover-fill-color: #FFFFFF;\n",
              "      --disabled-bg-color: #3B4455;\n",
              "      --disabled-fill-color: #666;\n",
              "  }\n",
              "\n",
              "  .colab-df-quickchart {\n",
              "    background-color: var(--bg-color);\n",
              "    border: none;\n",
              "    border-radius: 50%;\n",
              "    cursor: pointer;\n",
              "    display: none;\n",
              "    fill: var(--fill-color);\n",
              "    height: 32px;\n",
              "    padding: 0;\n",
              "    width: 32px;\n",
              "  }\n",
              "\n",
              "  .colab-df-quickchart:hover {\n",
              "    background-color: var(--hover-bg-color);\n",
              "    box-shadow: 0 1px 2px rgba(60, 64, 67, 0.3), 0 1px 3px 1px rgba(60, 64, 67, 0.15);\n",
              "    fill: var(--button-hover-fill-color);\n",
              "  }\n",
              "\n",
              "  .colab-df-quickchart-complete:disabled,\n",
              "  .colab-df-quickchart-complete:disabled:hover {\n",
              "    background-color: var(--disabled-bg-color);\n",
              "    fill: var(--disabled-fill-color);\n",
              "    box-shadow: none;\n",
              "  }\n",
              "\n",
              "  .colab-df-spinner {\n",
              "    border: 2px solid var(--fill-color);\n",
              "    border-color: transparent;\n",
              "    border-bottom-color: var(--fill-color);\n",
              "    animation:\n",
              "      spin 1s steps(1) infinite;\n",
              "  }\n",
              "\n",
              "  @keyframes spin {\n",
              "    0% {\n",
              "      border-color: transparent;\n",
              "      border-bottom-color: var(--fill-color);\n",
              "      border-left-color: var(--fill-color);\n",
              "    }\n",
              "    20% {\n",
              "      border-color: transparent;\n",
              "      border-left-color: var(--fill-color);\n",
              "      border-top-color: var(--fill-color);\n",
              "    }\n",
              "    30% {\n",
              "      border-color: transparent;\n",
              "      border-left-color: var(--fill-color);\n",
              "      border-top-color: var(--fill-color);\n",
              "      border-right-color: var(--fill-color);\n",
              "    }\n",
              "    40% {\n",
              "      border-color: transparent;\n",
              "      border-right-color: var(--fill-color);\n",
              "      border-top-color: var(--fill-color);\n",
              "    }\n",
              "    60% {\n",
              "      border-color: transparent;\n",
              "      border-right-color: var(--fill-color);\n",
              "    }\n",
              "    80% {\n",
              "      border-color: transparent;\n",
              "      border-right-color: var(--fill-color);\n",
              "      border-bottom-color: var(--fill-color);\n",
              "    }\n",
              "    90% {\n",
              "      border-color: transparent;\n",
              "      border-bottom-color: var(--fill-color);\n",
              "    }\n",
              "  }\n",
              "</style>\n",
              "\n",
              "  <script>\n",
              "    async function quickchart(key) {\n",
              "      const quickchartButtonEl =\n",
              "        document.querySelector('#' + key + ' button');\n",
              "      quickchartButtonEl.disabled = true;  // To prevent multiple clicks.\n",
              "      quickchartButtonEl.classList.add('colab-df-spinner');\n",
              "      try {\n",
              "        const charts = await google.colab.kernel.invokeFunction(\n",
              "            'suggestCharts', [key], {});\n",
              "      } catch (error) {\n",
              "        console.error('Error during call to suggestCharts:', error);\n",
              "      }\n",
              "      quickchartButtonEl.classList.remove('colab-df-spinner');\n",
              "      quickchartButtonEl.classList.add('colab-df-quickchart-complete');\n",
              "    }\n",
              "    (() => {\n",
              "      let quickchartButtonEl =\n",
              "        document.querySelector('#df-6ae721de-87f7-4103-a452-d11f82a16860 button');\n",
              "      quickchartButtonEl.style.display =\n",
              "        google.colab.kernel.accessAllowed ? 'block' : 'none';\n",
              "    })();\n",
              "  </script>\n",
              "</div>\n",
              "    </div>\n",
              "  </div>\n"
            ],
            "application/vnd.google.colaboratory.intrinsic+json": {
              "type": "dataframe",
              "variable_name": "lectures_df",
              "summary": "{\n  \"name\": \"lectures_df\",\n  \"rows\": 418,\n  \"fields\": [\n    {\n      \"column\": \"lecture_id\",\n      \"properties\": {\n        \"dtype\": \"number\",\n        \"std\": 9426,\n        \"min\": 89,\n        \"max\": 32736,\n        \"num_unique_values\": 418,\n        \"samples\": [\n          25857,\n          26052,\n          30681\n        ],\n        \"semantic_type\": \"\",\n        \"description\": \"\"\n      }\n    },\n    {\n      \"column\": \"tag\",\n      \"properties\": {\n        \"dtype\": \"number\",\n        \"std\": 53,\n        \"min\": 0,\n        \"max\": 187,\n        \"num_unique_values\": 151,\n        \"samples\": [\n          47,\n          109,\n          69\n        ],\n        \"semantic_type\": \"\",\n        \"description\": \"\"\n      }\n    },\n    {\n      \"column\": \"part\",\n      \"properties\": {\n        \"dtype\": \"number\",\n        \"std\": 1,\n        \"min\": 1,\n        \"max\": 7,\n        \"num_unique_values\": 7,\n        \"samples\": [\n          5,\n          1,\n          3\n        ],\n        \"semantic_type\": \"\",\n        \"description\": \"\"\n      }\n    },\n    {\n      \"column\": \"type_of\",\n      \"properties\": {\n        \"dtype\": \"category\",\n        \"num_unique_values\": 4,\n        \"samples\": [\n          \"solving question\",\n          \"starter\",\n          \"concept\"\n        ],\n        \"semantic_type\": \"\",\n        \"description\": \"\"\n      }\n    }\n  ]\n}"
            }
          },
          "metadata": {},
          "execution_count": 6
        }
      ],
      "source": [
        "# проверяю успешность загрузки\n",
        "lectures_df.head()"
      ]
    },
    {
      "cell_type": "code",
      "execution_count": null,
      "id": "c1448308-7279-469c-99e7-504014c63e39",
      "metadata": {
        "id": "c1448308-7279-469c-99e7-504014c63e39",
        "outputId": "36077cd8-2e4f-4ab5-caf4-10ed9077843d"
      },
      "outputs": [
        {
          "data": {
            "text/plain": [
              "(418, 4)"
            ]
          },
          "execution_count": 36,
          "metadata": {},
          "output_type": "execute_result"
        }
      ],
      "source": [
        "# оцениваю размерность\n",
        "lectures_df.shape"
      ]
    },
    {
      "cell_type": "code",
      "execution_count": null,
      "id": "04b4703e-8f83-4f56-a97e-c8e55075eca8",
      "metadata": {
        "id": "04b4703e-8f83-4f56-a97e-c8e55075eca8",
        "outputId": "e0e1d368-a026-44ae-ea62-6d3b83e821c9"
      },
      "outputs": [
        {
          "name": "stdout",
          "output_type": "stream",
          "text": [
            "<class 'pandas.core.frame.DataFrame'>\n",
            "RangeIndex: 418 entries, 0 to 417\n",
            "Data columns (total 4 columns):\n",
            " #   Column      Non-Null Count  Dtype \n",
            "---  ------      --------------  ----- \n",
            " 0   lecture_id  418 non-null    int64 \n",
            " 1   tag         418 non-null    int64 \n",
            " 2   part        418 non-null    int64 \n",
            " 3   type_of     418 non-null    object\n",
            "dtypes: int64(3), object(1)\n",
            "memory usage: 13.2+ KB\n"
          ]
        }
      ],
      "source": [
        "# оцениваю типы данных и количество отсутствующих данных\n",
        "lectures_df.info()"
      ]
    },
    {
      "cell_type": "code",
      "execution_count": null,
      "id": "7af397cd-d289-4fab-b7ab-66ee7ae9a3da",
      "metadata": {
        "id": "7af397cd-d289-4fab-b7ab-66ee7ae9a3da",
        "outputId": "c8a87070-845e-4858-bb59-c77f3173cc90"
      },
      "outputs": [
        {
          "data": {
            "text/plain": [
              "lecture_id\n",
              "89       1\n",
              "24908    1\n",
              "22792    1\n",
              "22711    1\n",
              "22619    1\n",
              "        ..\n",
              "11873    1\n",
              "11772    1\n",
              "11559    1\n",
              "11485    1\n",
              "32736    1\n",
              "Name: count, Length: 418, dtype: int64"
            ]
          },
          "execution_count": 7,
          "metadata": {},
          "output_type": "execute_result"
        }
      ],
      "source": [
        "# оцениваю id лекций\n",
        "lectures_df['lecture_id'].value_counts()"
      ]
    },
    {
      "cell_type": "code",
      "execution_count": null,
      "id": "24226cad-4936-43e5-a286-ee47ded9a217",
      "metadata": {
        "id": "24226cad-4936-43e5-a286-ee47ded9a217",
        "outputId": "f433e041-6888-4e4f-b6f1-1d2ba21c39fa"
      },
      "outputs": [
        {
          "data": {
            "text/plain": [
              "tag\n",
              "136    7\n",
              "27     6\n",
              "161    6\n",
              "74     6\n",
              "134    6\n",
              "      ..\n",
              "90     1\n",
              "112    1\n",
              "31     1\n",
              "138    1\n",
              "2      1\n",
              "Name: count, Length: 151, dtype: int64"
            ]
          },
          "execution_count": 46,
          "metadata": {},
          "output_type": "execute_result"
        }
      ],
      "source": [
        "# оцениваю количество групп лекций\n",
        "lectures_df['tag'].value_counts()"
      ]
    },
    {
      "cell_type": "code",
      "execution_count": null,
      "id": "06b869ef-1783-4f9f-8466-deb8959ac2f6",
      "metadata": {
        "id": "06b869ef-1783-4f9f-8466-deb8959ac2f6",
        "outputId": "50e98027-2c81-4b86-99bf-974379890351"
      },
      "outputs": [
        {
          "data": {
            "text/plain": [
              "part\n",
              "5    143\n",
              "6     83\n",
              "2     56\n",
              "1     54\n",
              "7     32\n",
              "4     31\n",
              "3     19\n",
              "Name: count, dtype: int64"
            ]
          },
          "execution_count": 48,
          "metadata": {},
          "output_type": "execute_result"
        }
      ],
      "source": [
        "# оцениваю количество разделов теста\n",
        "lectures_df['part'].value_counts()"
      ]
    },
    {
      "cell_type": "code",
      "execution_count": null,
      "id": "0df31487-4fd4-4d68-a5ea-35fff5ccbe26",
      "metadata": {
        "id": "0df31487-4fd4-4d68-a5ea-35fff5ccbe26",
        "outputId": "f10e15e9-579a-4259-a2cc-0c424f4c6bdb"
      },
      "outputs": [
        {
          "data": {
            "text/plain": [
              "type_of\n",
              "concept             222\n",
              "solving question    186\n",
              "intention             7\n",
              "starter               3\n",
              "Name: count, dtype: int64"
            ]
          },
          "execution_count": 50,
          "metadata": {},
          "output_type": "execute_result"
        }
      ],
      "source": [
        "# оцениваю цели лекций\n",
        "lectures_df['type_of'].value_counts()"
      ]
    },
    {
      "cell_type": "markdown",
      "id": "097074e9-a93b-4d8c-959e-7b8eec5b4b95",
      "metadata": {
        "id": "097074e9-a93b-4d8c-959e-7b8eec5b4b95"
      },
      "source": [
        "# questions"
      ]
    },
    {
      "cell_type": "code",
      "execution_count": null,
      "id": "8b6f692c-2e80-46a0-bd19-1906c0c471d0",
      "metadata": {
        "id": "8b6f692c-2e80-46a0-bd19-1906c0c471d0",
        "outputId": "5dc8b55a-b841-41e0-cdae-dae834389fd5"
      },
      "outputs": [
        {
          "data": {
            "text/html": [
              "<div>\n",
              "<style scoped>\n",
              "    .dataframe tbody tr th:only-of-type {\n",
              "        vertical-align: middle;\n",
              "    }\n",
              "\n",
              "    .dataframe tbody tr th {\n",
              "        vertical-align: top;\n",
              "    }\n",
              "\n",
              "    .dataframe thead th {\n",
              "        text-align: right;\n",
              "    }\n",
              "</style>\n",
              "<table border=\"1\" class=\"dataframe\">\n",
              "  <thead>\n",
              "    <tr style=\"text-align: right;\">\n",
              "      <th></th>\n",
              "      <th>question_id</th>\n",
              "      <th>bundle_id</th>\n",
              "      <th>correct_answer</th>\n",
              "      <th>part</th>\n",
              "      <th>tags</th>\n",
              "    </tr>\n",
              "  </thead>\n",
              "  <tbody>\n",
              "    <tr>\n",
              "      <th>0</th>\n",
              "      <td>0</td>\n",
              "      <td>0</td>\n",
              "      <td>0</td>\n",
              "      <td>1</td>\n",
              "      <td>51 131 162 38</td>\n",
              "    </tr>\n",
              "    <tr>\n",
              "      <th>1</th>\n",
              "      <td>1</td>\n",
              "      <td>1</td>\n",
              "      <td>1</td>\n",
              "      <td>1</td>\n",
              "      <td>131 36 81</td>\n",
              "    </tr>\n",
              "    <tr>\n",
              "      <th>2</th>\n",
              "      <td>2</td>\n",
              "      <td>2</td>\n",
              "      <td>0</td>\n",
              "      <td>1</td>\n",
              "      <td>131 101 162 92</td>\n",
              "    </tr>\n",
              "    <tr>\n",
              "      <th>3</th>\n",
              "      <td>3</td>\n",
              "      <td>3</td>\n",
              "      <td>0</td>\n",
              "      <td>1</td>\n",
              "      <td>131 149 162 29</td>\n",
              "    </tr>\n",
              "    <tr>\n",
              "      <th>4</th>\n",
              "      <td>4</td>\n",
              "      <td>4</td>\n",
              "      <td>3</td>\n",
              "      <td>1</td>\n",
              "      <td>131 5 162 38</td>\n",
              "    </tr>\n",
              "  </tbody>\n",
              "</table>\n",
              "</div>"
            ],
            "text/plain": [
              "   question_id  bundle_id  correct_answer  part            tags\n",
              "0            0          0               0     1   51 131 162 38\n",
              "1            1          1               1     1       131 36 81\n",
              "2            2          2               0     1  131 101 162 92\n",
              "3            3          3               0     1  131 149 162 29\n",
              "4            4          4               3     1    131 5 162 38"
            ]
          },
          "metadata": {},
          "output_type": "display_data"
        }
      ],
      "source": [
        "# проверяю успешность загрузки\n",
        "display(questions_df.head())"
      ]
    },
    {
      "cell_type": "code",
      "execution_count": null,
      "id": "191f95c0-f0a1-4d7f-ad2f-a9e1adb04c37",
      "metadata": {
        "id": "191f95c0-f0a1-4d7f-ad2f-a9e1adb04c37",
        "outputId": "f1ffd466-2f87-4589-eadb-ee3a144ad9d7"
      },
      "outputs": [
        {
          "data": {
            "text/plain": [
              "(13523, 5)"
            ]
          },
          "execution_count": 56,
          "metadata": {},
          "output_type": "execute_result"
        }
      ],
      "source": [
        "# оцениваю размерность\n",
        "questions_df.shape"
      ]
    },
    {
      "cell_type": "code",
      "execution_count": null,
      "id": "1e1afc75-25dd-49b1-b825-64e5fd9d4cbb",
      "metadata": {
        "id": "1e1afc75-25dd-49b1-b825-64e5fd9d4cbb",
        "outputId": "5f346843-3860-4554-aa5b-6595965ca859"
      },
      "outputs": [
        {
          "name": "stdout",
          "output_type": "stream",
          "text": [
            "<class 'pandas.core.frame.DataFrame'>\n",
            "RangeIndex: 13523 entries, 0 to 13522\n",
            "Data columns (total 5 columns):\n",
            " #   Column          Non-Null Count  Dtype \n",
            "---  ------          --------------  ----- \n",
            " 0   question_id     13523 non-null  int64 \n",
            " 1   bundle_id       13523 non-null  int64 \n",
            " 2   correct_answer  13523 non-null  int64 \n",
            " 3   part            13523 non-null  int64 \n",
            " 4   tags            13522 non-null  object\n",
            "dtypes: int64(4), object(1)\n",
            "memory usage: 528.4+ KB\n"
          ]
        }
      ],
      "source": [
        "# оцениваю типы данных и количество отсутствующих данных\n",
        "questions_df.info()"
      ]
    },
    {
      "cell_type": "code",
      "execution_count": null,
      "id": "09a2c42c-155b-464e-b843-92af5ad8e1b4",
      "metadata": {
        "id": "09a2c42c-155b-464e-b843-92af5ad8e1b4",
        "outputId": "b915a595-9d54-4804-9ecc-8ebf92f69720"
      },
      "outputs": [
        {
          "data": {
            "text/plain": [
              "correct_answer\n",
              "0    3716\n",
              "3    3544\n",
              "1    3478\n",
              "2    2785\n",
              "Name: count, dtype: int64"
            ]
          },
          "execution_count": 62,
          "metadata": {},
          "output_type": "execute_result"
        }
      ],
      "source": [
        "# оцениваю правильные ответы\n",
        "questions_df['correct_answer'].value_counts()"
      ]
    },
    {
      "cell_type": "code",
      "execution_count": null,
      "id": "e9f6f85e-f989-4c0a-aa43-f8636a3fc128",
      "metadata": {
        "id": "e9f6f85e-f989-4c0a-aa43-f8636a3fc128",
        "outputId": "51977ead-df78-4536-9981-38857fbb9ca8"
      },
      "outputs": [
        {
          "data": {
            "text/plain": [
              "part\n",
              "5    5511\n",
              "2    1647\n",
              "3    1562\n",
              "4    1439\n",
              "6    1212\n",
              "7    1160\n",
              "1     992\n",
              "Name: count, dtype: int64"
            ]
          },
          "execution_count": 64,
          "metadata": {},
          "output_type": "execute_result"
        }
      ],
      "source": [
        "# оцениваю количество разделов теста\n",
        "questions_df['part'].value_counts()"
      ]
    },
    {
      "cell_type": "code",
      "execution_count": null,
      "id": "cf917d36-3ea4-4ffc-a88c-58e3f02fbe3c",
      "metadata": {
        "id": "cf917d36-3ea4-4ffc-a88c-58e3f02fbe3c",
        "outputId": "3ff7e030-8216-44e1-9d90-75c9ccd87d5d"
      },
      "outputs": [
        {
          "data": {
            "text/plain": [
              "tags\n",
              "8                 738\n",
              "73                617\n",
              "53                523\n",
              "1                 413\n",
              "96                373\n",
              "                 ... \n",
              "157 144 81          1\n",
              "157 144 38          1\n",
              "106 169 162 81      1\n",
              "157 169 162 81      1\n",
              "157 169 92          1\n",
              "Name: count, Length: 1519, dtype: int64"
            ]
          },
          "execution_count": 66,
          "metadata": {},
          "output_type": "execute_result"
        }
      ],
      "source": [
        "# оцениваю количество групп вопросов\n",
        "questions_df['tags'].value_counts()"
      ]
    },
    {
      "cell_type": "code",
      "execution_count": null,
      "id": "8be19657-d83e-4c8f-9165-bd692f72e183",
      "metadata": {
        "id": "8be19657-d83e-4c8f-9165-bd692f72e183",
        "outputId": "32ed91e1-5289-48d8-e68d-889cf2501abd"
      },
      "outputs": [
        {
          "data": {
            "text/plain": [
              "7"
            ]
          },
          "execution_count": 49,
          "metadata": {},
          "output_type": "execute_result"
        }
      ],
      "source": [
        "questions_df['part'].max()"
      ]
    },
    {
      "cell_type": "code",
      "execution_count": null,
      "id": "45a94c38-44e6-4790-b66d-900b99c27d43",
      "metadata": {
        "id": "45a94c38-44e6-4790-b66d-900b99c27d43",
        "outputId": "0e63628c-c7df-40ce-a0dc-98d1152a245e"
      },
      "outputs": [
        {
          "data": {
            "text/plain": [
              "32736"
            ]
          },
          "execution_count": 33,
          "metadata": {},
          "output_type": "execute_result"
        }
      ],
      "source": [
        "train_df['content_id'].max()"
      ]
    },
    {
      "cell_type": "code",
      "execution_count": null,
      "id": "3cec5f8e-1d21-406b-a003-fce3a85d6ecf",
      "metadata": {
        "id": "3cec5f8e-1d21-406b-a003-fce3a85d6ecf"
      },
      "outputs": [],
      "source": [
        "# меняю типы данных датафрэйма\n",
        "\n",
        "train_df['content_id'] = train_df['content_id'].astype('int16')\n",
        "train_df['content_type_id'] = train_df['content_type_id'].astype('int8')\n",
        "train_df['row_id'] = train_df['row_id'].astype('int32')\n",
        "train_df['task_container_id'] = train_df['task_container_id'].astype('int16')\n",
        "train_df['user_answer'] = train_df['user_answer'].astype('int8')\n",
        "train_df['answered_correctly'] = train_df['answered_correctly'].astype('int8')"
      ]
    },
    {
      "cell_type": "code",
      "execution_count": null,
      "id": "c00cc516-906e-4fd9-9f10-7c5b41d079cf",
      "metadata": {
        "id": "c00cc516-906e-4fd9-9f10-7c5b41d079cf"
      },
      "outputs": [],
      "source": [
        "# меняю типы данных датафрэйма\n",
        "lectures_df['lecture_id'] = lectures_df['lecture_id'].astype('int16')\n",
        "lectures_df['tag'] = lectures_df['tag'].astype('int8')\n",
        "lectures_df['part'] = lectures_df['part'].astype('int8')"
      ]
    },
    {
      "cell_type": "code",
      "execution_count": null,
      "id": "df561992-fb30-4042-bfee-8f82d80ffcba",
      "metadata": {
        "id": "df561992-fb30-4042-bfee-8f82d80ffcba"
      },
      "outputs": [],
      "source": [
        "# меняю типы данных датафрэйма\n",
        "questions_df['question_id'] = questions_df['question_id'].astype('int16')\n",
        "questions_df['bundle_id'] = questions_df['bundle_id'].astype('int16')\n",
        "questions_df['correct_answer'] = questions_df['correct_answer'].astype('int8')\n",
        "questions_df['part'] = questions_df['part'].astype('int8')"
      ]
    },
    {
      "cell_type": "code",
      "execution_count": null,
      "id": "a1018550-cb0d-4741-8cc9-3db43ddacbcd",
      "metadata": {
        "id": "a1018550-cb0d-4741-8cc9-3db43ddacbcd",
        "outputId": "0fd29ab6-3aba-403d-d311-5ba70b3723ea"
      },
      "outputs": [
        {
          "name": "stdout",
          "output_type": "stream",
          "text": [
            "<class 'pandas.core.frame.DataFrame'>\n",
            "RangeIndex: 13523 entries, 0 to 13522\n",
            "Data columns (total 5 columns):\n",
            " #   Column          Non-Null Count  Dtype \n",
            "---  ------          --------------  ----- \n",
            " 0   question_id     13523 non-null  int16 \n",
            " 1   bundle_id       13523 non-null  int16 \n",
            " 2   correct_answer  13523 non-null  int8  \n",
            " 3   part            13523 non-null  int8  \n",
            " 4   tags            13522 non-null  object\n",
            "dtypes: int16(2), int8(2), object(1)\n",
            "memory usage: 185.0+ KB\n"
          ]
        }
      ],
      "source": [
        "questions_df.info()"
      ]
    },
    {
      "cell_type": "markdown",
      "id": "a6011fcc-8a83-423f-9dce-0d72bdc9018e",
      "metadata": {
        "id": "a6011fcc-8a83-423f-9dce-0d72bdc9018e"
      },
      "source": [
        "# Описание структуры данных и их предобработка"
      ]
    },
    {
      "cell_type": "code",
      "execution_count": null,
      "id": "12166818-0ad7-407d-a420-eac95b4923db",
      "metadata": {
        "id": "12166818-0ad7-407d-a420-eac95b4923db",
        "outputId": "ec412184-c237-41eb-cef7-1a0beb537b9f"
      },
      "outputs": [
        {
          "data": {
            "text/html": [
              "<div>\n",
              "<style scoped>\n",
              "    .dataframe tbody tr th:only-of-type {\n",
              "        vertical-align: middle;\n",
              "    }\n",
              "\n",
              "    .dataframe tbody tr th {\n",
              "        vertical-align: top;\n",
              "    }\n",
              "\n",
              "    .dataframe thead th {\n",
              "        text-align: right;\n",
              "    }\n",
              "</style>\n",
              "<table border=\"1\" class=\"dataframe\">\n",
              "  <thead>\n",
              "    <tr style=\"text-align: right;\">\n",
              "      <th></th>\n",
              "      <th>row_id</th>\n",
              "      <th>timestamp</th>\n",
              "      <th>user_id</th>\n",
              "      <th>content_id</th>\n",
              "      <th>content_type_id</th>\n",
              "      <th>task_container_id</th>\n",
              "      <th>user_answer</th>\n",
              "      <th>answered_correctly</th>\n",
              "      <th>prior_question_elapsed_time</th>\n",
              "    </tr>\n",
              "  </thead>\n",
              "  <tbody>\n",
              "    <tr>\n",
              "      <th>count</th>\n",
              "      <td>1.012303e+08</td>\n",
              "      <td>1.012303e+08</td>\n",
              "      <td>1.012303e+08</td>\n",
              "      <td>1.012303e+08</td>\n",
              "      <td>1.012303e+08</td>\n",
              "      <td>1.012303e+08</td>\n",
              "      <td>1.012303e+08</td>\n",
              "      <td>1.012303e+08</td>\n",
              "      <td>9.887879e+07</td>\n",
              "    </tr>\n",
              "    <tr>\n",
              "      <th>mean</th>\n",
              "      <td>5.061517e+07</td>\n",
              "      <td>7.703644e+09</td>\n",
              "      <td>1.076732e+09</td>\n",
              "      <td>5.219605e+03</td>\n",
              "      <td>1.935222e-02</td>\n",
              "      <td>9.040624e+02</td>\n",
              "      <td>1.376123e+00</td>\n",
              "      <td>6.251644e-01</td>\n",
              "      <td>2.542381e+04</td>\n",
              "    </tr>\n",
              "    <tr>\n",
              "      <th>std</th>\n",
              "      <td>2.922268e+07</td>\n",
              "      <td>1.159266e+10</td>\n",
              "      <td>6.197163e+08</td>\n",
              "      <td>3.866359e+03</td>\n",
              "      <td>1.377596e-01</td>\n",
              "      <td>1.358302e+03</td>\n",
              "      <td>1.192896e+00</td>\n",
              "      <td>5.225307e-01</td>\n",
              "      <td>1.994815e+04</td>\n",
              "    </tr>\n",
              "    <tr>\n",
              "      <th>min</th>\n",
              "      <td>0.000000e+00</td>\n",
              "      <td>0.000000e+00</td>\n",
              "      <td>1.150000e+02</td>\n",
              "      <td>0.000000e+00</td>\n",
              "      <td>0.000000e+00</td>\n",
              "      <td>0.000000e+00</td>\n",
              "      <td>-1.000000e+00</td>\n",
              "      <td>-1.000000e+00</td>\n",
              "      <td>0.000000e+00</td>\n",
              "    </tr>\n",
              "    <tr>\n",
              "      <th>25%</th>\n",
              "      <td>2.530758e+07</td>\n",
              "      <td>5.243436e+08</td>\n",
              "      <td>5.408116e+08</td>\n",
              "      <td>2.063000e+03</td>\n",
              "      <td>0.000000e+00</td>\n",
              "      <td>1.040000e+02</td>\n",
              "      <td>0.000000e+00</td>\n",
              "      <td>0.000000e+00</td>\n",
              "      <td>1.600000e+04</td>\n",
              "    </tr>\n",
              "    <tr>\n",
              "      <th>50%</th>\n",
              "      <td>5.061517e+07</td>\n",
              "      <td>2.674234e+09</td>\n",
              "      <td>1.071781e+09</td>\n",
              "      <td>5.026000e+03</td>\n",
              "      <td>0.000000e+00</td>\n",
              "      <td>3.820000e+02</td>\n",
              "      <td>1.000000e+00</td>\n",
              "      <td>1.000000e+00</td>\n",
              "      <td>2.100000e+04</td>\n",
              "    </tr>\n",
              "    <tr>\n",
              "      <th>75%</th>\n",
              "      <td>7.592275e+07</td>\n",
              "      <td>9.924551e+09</td>\n",
              "      <td>1.615742e+09</td>\n",
              "      <td>7.425000e+03</td>\n",
              "      <td>0.000000e+00</td>\n",
              "      <td>1.094000e+03</td>\n",
              "      <td>3.000000e+00</td>\n",
              "      <td>1.000000e+00</td>\n",
              "      <td>2.966600e+04</td>\n",
              "    </tr>\n",
              "    <tr>\n",
              "      <th>max</th>\n",
              "      <td>1.012303e+08</td>\n",
              "      <td>8.742577e+10</td>\n",
              "      <td>2.147483e+09</td>\n",
              "      <td>3.273600e+04</td>\n",
              "      <td>1.000000e+00</td>\n",
              "      <td>9.999000e+03</td>\n",
              "      <td>3.000000e+00</td>\n",
              "      <td>1.000000e+00</td>\n",
              "      <td>3.000000e+05</td>\n",
              "    </tr>\n",
              "  </tbody>\n",
              "</table>\n",
              "</div>"
            ],
            "text/plain": [
              "             row_id     timestamp       user_id    content_id  \\\n",
              "count  1.012303e+08  1.012303e+08  1.012303e+08  1.012303e+08   \n",
              "mean   5.061517e+07  7.703644e+09  1.076732e+09  5.219605e+03   \n",
              "std    2.922268e+07  1.159266e+10  6.197163e+08  3.866359e+03   \n",
              "min    0.000000e+00  0.000000e+00  1.150000e+02  0.000000e+00   \n",
              "25%    2.530758e+07  5.243436e+08  5.408116e+08  2.063000e+03   \n",
              "50%    5.061517e+07  2.674234e+09  1.071781e+09  5.026000e+03   \n",
              "75%    7.592275e+07  9.924551e+09  1.615742e+09  7.425000e+03   \n",
              "max    1.012303e+08  8.742577e+10  2.147483e+09  3.273600e+04   \n",
              "\n",
              "       content_type_id  task_container_id   user_answer  answered_correctly  \\\n",
              "count     1.012303e+08       1.012303e+08  1.012303e+08        1.012303e+08   \n",
              "mean      1.935222e-02       9.040624e+02  1.376123e+00        6.251644e-01   \n",
              "std       1.377596e-01       1.358302e+03  1.192896e+00        5.225307e-01   \n",
              "min       0.000000e+00       0.000000e+00 -1.000000e+00       -1.000000e+00   \n",
              "25%       0.000000e+00       1.040000e+02  0.000000e+00        0.000000e+00   \n",
              "50%       0.000000e+00       3.820000e+02  1.000000e+00        1.000000e+00   \n",
              "75%       0.000000e+00       1.094000e+03  3.000000e+00        1.000000e+00   \n",
              "max       1.000000e+00       9.999000e+03  3.000000e+00        1.000000e+00   \n",
              "\n",
              "       prior_question_elapsed_time  \n",
              "count                 9.887879e+07  \n",
              "mean                  2.542381e+04  \n",
              "std                   1.994815e+04  \n",
              "min                   0.000000e+00  \n",
              "25%                   1.600000e+04  \n",
              "50%                   2.100000e+04  \n",
              "75%                   2.966600e+04  \n",
              "max                   3.000000e+05  "
            ]
          },
          "execution_count": 105,
          "metadata": {},
          "output_type": "execute_result"
        }
      ],
      "source": [
        "# первые статистические показатели для числовых данных\n",
        "train_df.describe()"
      ]
    },
    {
      "cell_type": "code",
      "execution_count": null,
      "id": "d91e99c3-d6e6-4d7a-a337-5ba17751e652",
      "metadata": {
        "id": "d91e99c3-d6e6-4d7a-a337-5ba17751e652",
        "outputId": "ca9a8816-f4be-4f89-edcf-d18d5bb97d47"
      },
      "outputs": [
        {
          "data": {
            "text/html": [
              "<div>\n",
              "<style scoped>\n",
              "    .dataframe tbody tr th:only-of-type {\n",
              "        vertical-align: middle;\n",
              "    }\n",
              "\n",
              "    .dataframe tbody tr th {\n",
              "        vertical-align: top;\n",
              "    }\n",
              "\n",
              "    .dataframe thead th {\n",
              "        text-align: right;\n",
              "    }\n",
              "</style>\n",
              "<table border=\"1\" class=\"dataframe\">\n",
              "  <thead>\n",
              "    <tr style=\"text-align: right;\">\n",
              "      <th></th>\n",
              "      <th>prior_question_had_explanation</th>\n",
              "    </tr>\n",
              "  </thead>\n",
              "  <tbody>\n",
              "    <tr>\n",
              "      <th>count</th>\n",
              "      <td>100837826</td>\n",
              "    </tr>\n",
              "    <tr>\n",
              "      <th>unique</th>\n",
              "      <td>2</td>\n",
              "    </tr>\n",
              "    <tr>\n",
              "      <th>top</th>\n",
              "      <td>True</td>\n",
              "    </tr>\n",
              "    <tr>\n",
              "      <th>freq</th>\n",
              "      <td>89685560</td>\n",
              "    </tr>\n",
              "  </tbody>\n",
              "</table>\n",
              "</div>"
            ],
            "text/plain": [
              "       prior_question_had_explanation\n",
              "count                       100837826\n",
              "unique                              2\n",
              "top                              True\n",
              "freq                         89685560"
            ]
          },
          "execution_count": 165,
          "metadata": {},
          "output_type": "execute_result"
        }
      ],
      "source": [
        "# первые статистические показатели для нечисловых данных\n",
        "train_df.describe(include='object')"
      ]
    },
    {
      "cell_type": "code",
      "execution_count": null,
      "id": "9dff58d7-657d-491d-9f73-8ffafb34100e",
      "metadata": {
        "id": "9dff58d7-657d-491d-9f73-8ffafb34100e",
        "outputId": "8d8f47ac-ee32-4779-ac32-a10e3d3b420c"
      },
      "outputs": [
        {
          "data": {
            "text/html": [
              "<div>\n",
              "<style scoped>\n",
              "    .dataframe tbody tr th:only-of-type {\n",
              "        vertical-align: middle;\n",
              "    }\n",
              "\n",
              "    .dataframe tbody tr th {\n",
              "        vertical-align: top;\n",
              "    }\n",
              "\n",
              "    .dataframe thead th {\n",
              "        text-align: right;\n",
              "    }\n",
              "</style>\n",
              "<table border=\"1\" class=\"dataframe\">\n",
              "  <thead>\n",
              "    <tr style=\"text-align: right;\">\n",
              "      <th></th>\n",
              "      <th>lecture_id</th>\n",
              "      <th>tag</th>\n",
              "      <th>part</th>\n",
              "    </tr>\n",
              "  </thead>\n",
              "  <tbody>\n",
              "    <tr>\n",
              "      <th>count</th>\n",
              "      <td>418.000000</td>\n",
              "      <td>418.000000</td>\n",
              "      <td>418.000000</td>\n",
              "    </tr>\n",
              "    <tr>\n",
              "      <th>mean</th>\n",
              "      <td>16983.401914</td>\n",
              "      <td>94.480861</td>\n",
              "      <td>4.267943</td>\n",
              "    </tr>\n",
              "    <tr>\n",
              "      <th>std</th>\n",
              "      <td>9426.164660</td>\n",
              "      <td>53.586487</td>\n",
              "      <td>1.872424</td>\n",
              "    </tr>\n",
              "    <tr>\n",
              "      <th>min</th>\n",
              "      <td>89.000000</td>\n",
              "      <td>0.000000</td>\n",
              "      <td>1.000000</td>\n",
              "    </tr>\n",
              "    <tr>\n",
              "      <th>25%</th>\n",
              "      <td>9026.250000</td>\n",
              "      <td>50.250000</td>\n",
              "      <td>2.000000</td>\n",
              "    </tr>\n",
              "    <tr>\n",
              "      <th>50%</th>\n",
              "      <td>17161.500000</td>\n",
              "      <td>94.500000</td>\n",
              "      <td>5.000000</td>\n",
              "    </tr>\n",
              "    <tr>\n",
              "      <th>75%</th>\n",
              "      <td>24906.250000</td>\n",
              "      <td>140.000000</td>\n",
              "      <td>6.000000</td>\n",
              "    </tr>\n",
              "    <tr>\n",
              "      <th>max</th>\n",
              "      <td>32736.000000</td>\n",
              "      <td>187.000000</td>\n",
              "      <td>7.000000</td>\n",
              "    </tr>\n",
              "  </tbody>\n",
              "</table>\n",
              "</div>"
            ],
            "text/plain": [
              "         lecture_id         tag        part\n",
              "count    418.000000  418.000000  418.000000\n",
              "mean   16983.401914   94.480861    4.267943\n",
              "std     9426.164660   53.586487    1.872424\n",
              "min       89.000000    0.000000    1.000000\n",
              "25%     9026.250000   50.250000    2.000000\n",
              "50%    17161.500000   94.500000    5.000000\n",
              "75%    24906.250000  140.000000    6.000000\n",
              "max    32736.000000  187.000000    7.000000"
            ]
          },
          "execution_count": 167,
          "metadata": {},
          "output_type": "execute_result"
        }
      ],
      "source": [
        "# первые статистические показатели для числовых данных\n",
        "lectures_df.describe()"
      ]
    },
    {
      "cell_type": "code",
      "execution_count": null,
      "id": "61668b30-500f-4026-b3ad-2a831d0ee569",
      "metadata": {
        "id": "61668b30-500f-4026-b3ad-2a831d0ee569",
        "outputId": "0efe104e-4a80-4012-8968-0612ad2c272c"
      },
      "outputs": [
        {
          "data": {
            "text/html": [
              "<div>\n",
              "<style scoped>\n",
              "    .dataframe tbody tr th:only-of-type {\n",
              "        vertical-align: middle;\n",
              "    }\n",
              "\n",
              "    .dataframe tbody tr th {\n",
              "        vertical-align: top;\n",
              "    }\n",
              "\n",
              "    .dataframe thead th {\n",
              "        text-align: right;\n",
              "    }\n",
              "</style>\n",
              "<table border=\"1\" class=\"dataframe\">\n",
              "  <thead>\n",
              "    <tr style=\"text-align: right;\">\n",
              "      <th></th>\n",
              "      <th>type_of</th>\n",
              "    </tr>\n",
              "  </thead>\n",
              "  <tbody>\n",
              "    <tr>\n",
              "      <th>count</th>\n",
              "      <td>418</td>\n",
              "    </tr>\n",
              "    <tr>\n",
              "      <th>unique</th>\n",
              "      <td>4</td>\n",
              "    </tr>\n",
              "    <tr>\n",
              "      <th>top</th>\n",
              "      <td>concept</td>\n",
              "    </tr>\n",
              "    <tr>\n",
              "      <th>freq</th>\n",
              "      <td>222</td>\n",
              "    </tr>\n",
              "  </tbody>\n",
              "</table>\n",
              "</div>"
            ],
            "text/plain": [
              "        type_of\n",
              "count       418\n",
              "unique        4\n",
              "top     concept\n",
              "freq        222"
            ]
          },
          "execution_count": 169,
          "metadata": {},
          "output_type": "execute_result"
        }
      ],
      "source": [
        "# первые статистические показатели для нечисловых данных\n",
        "lectures_df.describe(include='object')"
      ]
    },
    {
      "cell_type": "code",
      "execution_count": null,
      "id": "3b29ba04-007f-43ef-9f36-d9ba87827885",
      "metadata": {
        "id": "3b29ba04-007f-43ef-9f36-d9ba87827885",
        "outputId": "49762fd8-58e8-4e12-c647-2c0e157071de"
      },
      "outputs": [
        {
          "data": {
            "text/html": [
              "<div>\n",
              "<style scoped>\n",
              "    .dataframe tbody tr th:only-of-type {\n",
              "        vertical-align: middle;\n",
              "    }\n",
              "\n",
              "    .dataframe tbody tr th {\n",
              "        vertical-align: top;\n",
              "    }\n",
              "\n",
              "    .dataframe thead th {\n",
              "        text-align: right;\n",
              "    }\n",
              "</style>\n",
              "<table border=\"1\" class=\"dataframe\">\n",
              "  <thead>\n",
              "    <tr style=\"text-align: right;\">\n",
              "      <th></th>\n",
              "      <th>question_id</th>\n",
              "      <th>bundle_id</th>\n",
              "      <th>correct_answer</th>\n",
              "      <th>part</th>\n",
              "    </tr>\n",
              "  </thead>\n",
              "  <tbody>\n",
              "    <tr>\n",
              "      <th>count</th>\n",
              "      <td>13523.00000</td>\n",
              "      <td>13523.000000</td>\n",
              "      <td>13523.000000</td>\n",
              "      <td>13523.000000</td>\n",
              "    </tr>\n",
              "    <tr>\n",
              "      <th>mean</th>\n",
              "      <td>6761.00000</td>\n",
              "      <td>6760.510907</td>\n",
              "      <td>1.455298</td>\n",
              "      <td>4.264956</td>\n",
              "    </tr>\n",
              "    <tr>\n",
              "      <th>std</th>\n",
              "      <td>3903.89818</td>\n",
              "      <td>3903.857783</td>\n",
              "      <td>1.149707</td>\n",
              "      <td>1.652553</td>\n",
              "    </tr>\n",
              "    <tr>\n",
              "      <th>min</th>\n",
              "      <td>0.00000</td>\n",
              "      <td>0.000000</td>\n",
              "      <td>0.000000</td>\n",
              "      <td>1.000000</td>\n",
              "    </tr>\n",
              "    <tr>\n",
              "      <th>25%</th>\n",
              "      <td>3380.50000</td>\n",
              "      <td>3379.500000</td>\n",
              "      <td>0.000000</td>\n",
              "      <td>3.000000</td>\n",
              "    </tr>\n",
              "    <tr>\n",
              "      <th>50%</th>\n",
              "      <td>6761.00000</td>\n",
              "      <td>6761.000000</td>\n",
              "      <td>1.000000</td>\n",
              "      <td>5.000000</td>\n",
              "    </tr>\n",
              "    <tr>\n",
              "      <th>75%</th>\n",
              "      <td>10141.50000</td>\n",
              "      <td>10140.000000</td>\n",
              "      <td>3.000000</td>\n",
              "      <td>5.000000</td>\n",
              "    </tr>\n",
              "    <tr>\n",
              "      <th>max</th>\n",
              "      <td>13522.00000</td>\n",
              "      <td>13522.000000</td>\n",
              "      <td>3.000000</td>\n",
              "      <td>7.000000</td>\n",
              "    </tr>\n",
              "  </tbody>\n",
              "</table>\n",
              "</div>"
            ],
            "text/plain": [
              "       question_id     bundle_id  correct_answer          part\n",
              "count  13523.00000  13523.000000    13523.000000  13523.000000\n",
              "mean    6761.00000   6760.510907        1.455298      4.264956\n",
              "std     3903.89818   3903.857783        1.149707      1.652553\n",
              "min        0.00000      0.000000        0.000000      1.000000\n",
              "25%     3380.50000   3379.500000        0.000000      3.000000\n",
              "50%     6761.00000   6761.000000        1.000000      5.000000\n",
              "75%    10141.50000  10140.000000        3.000000      5.000000\n",
              "max    13522.00000  13522.000000        3.000000      7.000000"
            ]
          },
          "execution_count": 171,
          "metadata": {},
          "output_type": "execute_result"
        }
      ],
      "source": [
        "# первые статистические показатели для числовых данных\n",
        "questions_df.describe()"
      ]
    },
    {
      "cell_type": "code",
      "execution_count": null,
      "id": "ee4f5dd3-74e8-4550-abc1-6727c90a4e90",
      "metadata": {
        "id": "ee4f5dd3-74e8-4550-abc1-6727c90a4e90",
        "outputId": "23d6f38c-146c-4f75-a189-af8cdc676263"
      },
      "outputs": [
        {
          "data": {
            "text/html": [
              "<div>\n",
              "<style scoped>\n",
              "    .dataframe tbody tr th:only-of-type {\n",
              "        vertical-align: middle;\n",
              "    }\n",
              "\n",
              "    .dataframe tbody tr th {\n",
              "        vertical-align: top;\n",
              "    }\n",
              "\n",
              "    .dataframe thead th {\n",
              "        text-align: right;\n",
              "    }\n",
              "</style>\n",
              "<table border=\"1\" class=\"dataframe\">\n",
              "  <thead>\n",
              "    <tr style=\"text-align: right;\">\n",
              "      <th></th>\n",
              "      <th>tags</th>\n",
              "    </tr>\n",
              "  </thead>\n",
              "  <tbody>\n",
              "    <tr>\n",
              "      <th>count</th>\n",
              "      <td>13522</td>\n",
              "    </tr>\n",
              "    <tr>\n",
              "      <th>unique</th>\n",
              "      <td>1519</td>\n",
              "    </tr>\n",
              "    <tr>\n",
              "      <th>top</th>\n",
              "      <td>8</td>\n",
              "    </tr>\n",
              "    <tr>\n",
              "      <th>freq</th>\n",
              "      <td>738</td>\n",
              "    </tr>\n",
              "  </tbody>\n",
              "</table>\n",
              "</div>"
            ],
            "text/plain": [
              "         tags\n",
              "count   13522\n",
              "unique   1519\n",
              "top         8\n",
              "freq      738"
            ]
          },
          "execution_count": 173,
          "metadata": {},
          "output_type": "execute_result"
        }
      ],
      "source": [
        "# первые статистические показатели для нечисловых данных\n",
        "questions_df.describe(include='object')"
      ]
    },
    {
      "cell_type": "code",
      "execution_count": null,
      "id": "81845243-132f-4671-8827-0ed75b0d0bcb",
      "metadata": {
        "id": "81845243-132f-4671-8827-0ed75b0d0bcb",
        "outputId": "271c486d-67ed-4107-def2-51412985d71f"
      },
      "outputs": [
        {
          "data": {
            "text/plain": [
              "66.0"
            ]
          },
          "execution_count": 518,
          "metadata": {},
          "output_type": "execute_result"
        }
      ],
      "source": [
        "# процент правильно отвеченных вопросов\n",
        "round(abs(train_df[(train_df['answered_correctly'] == 1)].shape[0]/ train_df[(train_df['answered_correctly'] >= 0)].shape[0]), 2)*100"
      ]
    },
    {
      "cell_type": "code",
      "execution_count": null,
      "id": "20ab65e7-2eed-44ee-94b8-14695f2b2bd5",
      "metadata": {
        "id": "20ab65e7-2eed-44ee-94b8-14695f2b2bd5"
      },
      "outputs": [],
      "source": [
        "train_df_1 = train_df[(train_df['timestamp'] != 0)]"
      ]
    },
    {
      "cell_type": "code",
      "execution_count": null,
      "id": "ae9ef211-07e1-4755-8fad-df3484b744c9",
      "metadata": {
        "id": "ae9ef211-07e1-4755-8fad-df3484b744c9",
        "outputId": "b652974a-6f87-41e1-ae55-8156d6456181"
      },
      "outputs": [
        {
          "name": "stdout",
          "output_type": "stream",
          "text": [
            "0.7 сек\n"
          ]
        }
      ],
      "source": [
        "# наименьшее время затраченное на тест\n",
        "print(str(round(train_df_1.timestamp.min()/1000,1)) + ' сек')"
      ]
    },
    {
      "cell_type": "code",
      "execution_count": null,
      "id": "0798ff8a-64fc-4628-9726-2f9ca92b7040",
      "metadata": {
        "id": "0798ff8a-64fc-4628-9726-2f9ca92b7040",
        "outputId": "1f02b3c6-ca51-42fb-d5ea-2787f4d296a1"
      },
      "outputs": [
        {
          "name": "stdout",
          "output_type": "stream",
          "text": [
            "2.77 года\n"
          ]
        }
      ],
      "source": [
        "# наибольшее время затраченное на тест\n",
        "print(str(round(train_df_1.timestamp.max()/31536000000,2)) + ' года')"
      ]
    },
    {
      "cell_type": "code",
      "execution_count": null,
      "id": "a2759c06-58f8-4d1d-bf18-c8a62f1b8da9",
      "metadata": {
        "id": "a2759c06-58f8-4d1d-bf18-c8a62f1b8da9",
        "outputId": "0c62ca57-c613-4ee1-da59-bacad237378a"
      },
      "outputs": [
        {
          "name": "stdout",
          "output_type": "stream",
          "text": [
            "89.51 дней\n"
          ]
        }
      ],
      "source": [
        "# среднее из затраченного времени на тест\n",
        "print(str(round(train_df_1['timestamp'].mean()/86400000,2)) + ' дней')"
      ]
    },
    {
      "cell_type": "code",
      "execution_count": null,
      "id": "f0568b1f-463c-42a9-bba1-7db4a19cdf67",
      "metadata": {
        "id": "f0568b1f-463c-42a9-bba1-7db4a19cdf67",
        "outputId": "9da0ea56-e837-467b-b7c4-a0b6c0b7dc64"
      },
      "outputs": [
        {
          "name": "stdout",
          "output_type": "stream",
          "text": [
            "5% менее 0.15 часов\n",
            "10% менее 4.85 часов\n",
            "15% менее 1.69 дней\n",
            "20% менее 3.56 дней\n",
            "25% менее 6.22 дней\n",
            "30% менее 9.68 дней\n",
            "35% менее 13.89 дней\n",
            "40% менее 18.66 дней\n",
            "45% менее 24.31 дней\n",
            "50% менее 31.18 дней\n",
            "55% менее 39.92 дней\n",
            "60% менее 50.7 дней\n",
            "65% менее 65.14 дней\n",
            "70% менее 86.14 дней\n",
            "75% менее 115.51 дней\n",
            "80% менее 153.04 дней\n",
            "85% менее 197.3 дней\n",
            "90% менее 266.69 дней\n",
            "95% менее 382.81 дней\n"
          ]
        }
      ],
      "source": [
        "# оценка времени затраченного на тест всеми пользователями\n",
        "print('5% менее ' + str(round(train_df_1['timestamp'].quantile(0.05)/3600000,2)) + ' часов')\n",
        "print('10% менее ' +str(round(train_df_1['timestamp'].quantile(0.1)/3600000,2)) + ' часов')\n",
        "print('15% менее ' +str(round(train_df_1['timestamp'].quantile(0.15)/86400000,2)) + ' дней')\n",
        "print('20% менее ' +str(round(train_df_1['timestamp'].quantile(0.20)/86400000,2)) + ' дней')\n",
        "print('25% менее ' +str(round(train_df_1['timestamp'].quantile(0.25)/86400000,2)) + ' дней')\n",
        "print('30% менее ' +str(round(train_df_1['timestamp'].quantile(0.3)/86400000,2)) + ' дней')\n",
        "print('35% менее ' +str(round(train_df_1['timestamp'].quantile(0.35)/86400000,2)) + ' дней')\n",
        "print('40% менее ' +str(round(train_df_1['timestamp'].quantile(0.4)/86400000,2)) + ' дней')\n",
        "print('45% менее ' +str(round(train_df_1['timestamp'].quantile(0.45)/86400000,2)) + ' дней')\n",
        "print('50% менее ' +str(round(train_df_1['timestamp'].quantile(0.5)/86400000,2)) + ' дней')\n",
        "print('55% менее ' +str(round(train_df_1['timestamp'].quantile(0.55)/86400000,2)) + ' дней')\n",
        "print('60% менее ' +str(round(train_df_1['timestamp'].quantile(0.6)/86400000,2)) + ' дней')\n",
        "print('65% менее ' +str(round(train_df_1['timestamp'].quantile(0.65)/86400000,2)) + ' дней')\n",
        "print('70% менее ' +str(round(train_df_1['timestamp'].quantile(0.7)/86400000,2)) + ' дней')\n",
        "print('75% менее ' +str(round(train_df_1['timestamp'].quantile(0.75)/86400000,2)) + ' дней')\n",
        "print('80% менее ' +str(round(train_df_1['timestamp'].quantile(0.8)/86400000,2)) + ' дней')\n",
        "print('85% менее ' +str(round(train_df_1['timestamp'].quantile(0.85)/86400000,2)) + ' дней')\n",
        "print('90% менее ' +str(round(train_df_1['timestamp'].quantile(0.9)/86400000,2)) + ' дней')\n",
        "print('95% менее ' +str(round(train_df_1['timestamp'].quantile(0.95)/86400000,2)) + ' дней')"
      ]
    },
    {
      "cell_type": "code",
      "execution_count": null,
      "id": "ac611fb0-ddd9-4612-b165-801132c8d94e",
      "metadata": {
        "id": "ac611fb0-ddd9-4612-b165-801132c8d94e"
      },
      "outputs": [],
      "source": [
        "# удаляю последний столбец для независимого анализа предпоследнего\n",
        "train_df_4 = train_df.drop(columns=['prior_question_had_explanation'])"
      ]
    },
    {
      "cell_type": "code",
      "execution_count": null,
      "id": "422cac7e-a9ce-4624-b51d-49eae414103f",
      "metadata": {
        "id": "422cac7e-a9ce-4624-b51d-49eae414103f"
      },
      "outputs": [],
      "source": [
        "# удаляю строки с nan в последнем столбце\n",
        "train_df_4 = train_df_4.dropna()"
      ]
    },
    {
      "cell_type": "code",
      "execution_count": null,
      "id": "392b97ab-639f-47fb-844b-e50563573454",
      "metadata": {
        "id": "392b97ab-639f-47fb-844b-e50563573454"
      },
      "outputs": [],
      "source": [
        "# создаю датафрэйм без временных отрезков равных бесконечности\n",
        "train_df_6 = train_df_4[(train_df_4['prior_question_elapsed_time']< 99999999)]\n"
      ]
    },
    {
      "cell_type": "code",
      "execution_count": null,
      "id": "a468a7ec-ad91-4625-8775-6e16bd041bb1",
      "metadata": {
        "id": "a468a7ec-ad91-4625-8775-6e16bd041bb1",
        "outputId": "0dc0b7f7-d4e3-4bf8-8a95-645cf01b7fc1"
      },
      "outputs": [
        {
          "data": {
            "text/plain": [
              "95420546"
            ]
          },
          "execution_count": 403,
          "metadata": {},
          "output_type": "execute_result"
        }
      ],
      "source": [
        "# количество завершенных ответов\n",
        "train_df_6.shape[0]"
      ]
    },
    {
      "cell_type": "code",
      "execution_count": null,
      "id": "c356dfcc-9690-41b1-abf7-ff4e1aa4fe0b",
      "metadata": {
        "id": "c356dfcc-9690-41b1-abf7-ff4e1aa4fe0b",
        "outputId": "1f1bb208-1e8c-48e9-e789-d26c5b79a0cb"
      },
      "outputs": [
        {
          "name": "stdout",
          "output_type": "stream",
          "text": [
            "0.2 сек\n"
          ]
        }
      ],
      "source": [
        "# самый быстрый ответ\n",
        "print(str(round(train_df_6.prior_question_elapsed_time.min()/1000,1)) + ' сек')"
      ]
    },
    {
      "cell_type": "code",
      "execution_count": null,
      "id": "f1e4428d-5b44-410d-bee8-85e775f2d77b",
      "metadata": {
        "id": "f1e4428d-5b44-410d-bee8-85e775f2d77b",
        "outputId": "c3e0d873-e859-46f7-b140-2a947369afaf"
      },
      "outputs": [
        {
          "name": "stdout",
          "output_type": "stream",
          "text": [
            "65.5 сек\n"
          ]
        }
      ],
      "source": [
        "# самый долгий ответ\n",
        "print(str(round(train_df_6.prior_question_elapsed_time.max()/1000,2)) + ' сек')"
      ]
    },
    {
      "cell_type": "code",
      "execution_count": null,
      "id": "a88b3263-ce91-4f39-8bad-919e5d3930f9",
      "metadata": {
        "id": "a88b3263-ce91-4f39-8bad-919e5d3930f9",
        "outputId": "efd430b4-256f-4191-f39c-862665a61c8d"
      },
      "outputs": [
        {
          "name": "stdout",
          "output_type": "stream",
          "text": [
            "22.86 сек\n"
          ]
        }
      ],
      "source": [
        "# среднее время на ответ\n",
        "print(str(round(train_df_6.prior_question_elapsed_time.mean()/1000,2)) + ' сек')"
      ]
    },
    {
      "cell_type": "code",
      "execution_count": null,
      "id": "bcd38faa-7202-4935-b8d9-77b18601f935",
      "metadata": {
        "id": "bcd38faa-7202-4935-b8d9-77b18601f935",
        "outputId": "e2ae05bb-e9ad-49e8-d707-3059bffb17c9"
      },
      "outputs": [
        {
          "data": {
            "text/html": [
              "<div>\n",
              "<style scoped>\n",
              "    .dataframe tbody tr th:only-of-type {\n",
              "        vertical-align: middle;\n",
              "    }\n",
              "\n",
              "    .dataframe tbody tr th {\n",
              "        vertical-align: top;\n",
              "    }\n",
              "\n",
              "    .dataframe thead th {\n",
              "        text-align: right;\n",
              "    }\n",
              "</style>\n",
              "<table border=\"1\" class=\"dataframe\">\n",
              "  <thead>\n",
              "    <tr style=\"text-align: right;\">\n",
              "      <th></th>\n",
              "      <th>prior_question_elapsed_time</th>\n",
              "    </tr>\n",
              "  </thead>\n",
              "  <tbody>\n",
              "    <tr>\n",
              "      <th>count</th>\n",
              "      <td>9.522573e+07</td>\n",
              "    </tr>\n",
              "    <tr>\n",
              "      <th>mean</th>\n",
              "      <td>2.286490e+04</td>\n",
              "    </tr>\n",
              "    <tr>\n",
              "      <th>std</th>\n",
              "      <td>1.197015e+04</td>\n",
              "    </tr>\n",
              "    <tr>\n",
              "      <th>min</th>\n",
              "      <td>2.000000e+02</td>\n",
              "    </tr>\n",
              "    <tr>\n",
              "      <th>25%</th>\n",
              "      <td>1.566400e+04</td>\n",
              "    </tr>\n",
              "    <tr>\n",
              "      <th>50%</th>\n",
              "      <td>2.033600e+04</td>\n",
              "    </tr>\n",
              "    <tr>\n",
              "      <th>75%</th>\n",
              "      <td>2.800000e+04</td>\n",
              "    </tr>\n",
              "    <tr>\n",
              "      <th>max</th>\n",
              "      <td>6.550400e+04</td>\n",
              "    </tr>\n",
              "  </tbody>\n",
              "</table>\n",
              "</div>"
            ],
            "text/plain": [
              "       prior_question_elapsed_time\n",
              "count                 9.522573e+07\n",
              "mean                  2.286490e+04\n",
              "std                   1.197015e+04\n",
              "min                   2.000000e+02\n",
              "25%                   1.566400e+04\n",
              "50%                   2.033600e+04\n",
              "75%                   2.800000e+04\n",
              "max                   6.550400e+04"
            ]
          },
          "execution_count": 433,
          "metadata": {},
          "output_type": "execute_result"
        }
      ],
      "source": [
        "# статические показатели времени для завершенных ответов\n",
        "train_df_6[(train_df_6['prior_question_elapsed_time']<= 65504.0)].loc[:, ['prior_question_elapsed_time']].describe()"
      ]
    },
    {
      "cell_type": "code",
      "execution_count": null,
      "id": "74f4cd9d-c2ce-4f46-97a2-e1e05dc3c26d",
      "metadata": {
        "id": "74f4cd9d-c2ce-4f46-97a2-e1e05dc3c26d",
        "outputId": "7c248643-8fd8-4740-a375-3b3920fb2fe1"
      },
      "outputs": [
        {
          "data": {
            "text/plain": [
              "3.5"
            ]
          },
          "execution_count": 467,
          "metadata": {},
          "output_type": "execute_result"
        }
      ],
      "source": [
        "# процент незавершенных ответов\n",
        "round(train_df_4[train_df_4['prior_question_elapsed_time'] > 999999999].shape[0]/train_df_4.shape[0]*100,1)"
      ]
    },
    {
      "cell_type": "code",
      "execution_count": null,
      "id": "3231ded4-d328-4e0c-b50c-c9bea24488e3",
      "metadata": {
        "id": "3231ded4-d328-4e0c-b50c-c9bea24488e3"
      },
      "outputs": [],
      "source": [
        "# удаляю предпоследнего столбец для независимого анализа последнего\n",
        "train_df_5 = train_df.drop(columns=['prior_question_elapsed_time'])"
      ]
    },
    {
      "cell_type": "code",
      "execution_count": null,
      "id": "6e9c2740-8e34-4d6d-b1e8-ef2873121d88",
      "metadata": {
        "id": "6e9c2740-8e34-4d6d-b1e8-ef2873121d88"
      },
      "outputs": [],
      "source": [
        "# создаю датафрэйм без строк с nan\n",
        "train_df_5 = train_df_5.dropna()"
      ]
    },
    {
      "cell_type": "code",
      "execution_count": null,
      "id": "132a7d3a-97fb-4610-a6ce-c1163ecf1f91",
      "metadata": {
        "id": "132a7d3a-97fb-4610-a6ce-c1163ecf1f91",
        "outputId": "e284a63f-b203-4aff-a0f3-7d4ee92770c5"
      },
      "outputs": [
        {
          "data": {
            "text/plain": [
              "89"
            ]
          },
          "execution_count": 568,
          "metadata": {},
          "output_type": "execute_result"
        }
      ],
      "source": [
        "# процент ответов с полученными объяснениями\n",
        "round(train_df_5[train_df_5['prior_question_had_explanation']==True].shape[0]/train_df_5['prior_question_had_explanation'].shape[0]*100)"
      ]
    },
    {
      "cell_type": "code",
      "execution_count": null,
      "id": "d8a0cf97-4f13-4163-9879-d02467497a54",
      "metadata": {
        "id": "d8a0cf97-4f13-4163-9879-d02467497a54",
        "outputId": "0d45241d-920d-40ff-ca92-50efaac26642"
      },
      "outputs": [
        {
          "data": {
            "text/plain": [
              "prior_question_had_explanation\n",
              "True     89685560\n",
              "False    11152266\n",
              "Name: count, dtype: int64"
            ]
          },
          "execution_count": 570,
          "metadata": {},
          "output_type": "execute_result"
        }
      ],
      "source": [
        "train_df_5['prior_question_had_explanation'].value_counts()"
      ]
    },
    {
      "cell_type": "code",
      "execution_count": null,
      "id": "57b600a9-1096-4a29-b9bd-cb31939e0d76",
      "metadata": {
        "id": "57b600a9-1096-4a29-b9bd-cb31939e0d76"
      },
      "outputs": [],
      "source": [
        "# создал датафрэймы с полученными объяснениями и без них\n",
        "\n",
        "train_df_7 = train_df_5[train_df_5['prior_question_had_explanation'] == True]\n",
        "train_df_8 = train_df_5[train_df_5['prior_question_had_explanation'] == False]\n"
      ]
    },
    {
      "cell_type": "code",
      "execution_count": null,
      "id": "c9eed47d-8cac-4183-bfb1-2db2be95483a",
      "metadata": {
        "id": "c9eed47d-8cac-4183-bfb1-2db2be95483a",
        "outputId": "375a4513-23a7-4d6e-8a29-a3791d35857a"
      },
      "outputs": [
        {
          "data": {
            "text/plain": [
              "67"
            ]
          },
          "execution_count": 35,
          "metadata": {},
          "output_type": "execute_result"
        }
      ],
      "source": [
        "# процент верных ответов в датафрэйме с полученными объяснениями\n",
        "round(train_df_7[train_df_7['answered_correctly'] == 1].shape[0]/train_df_7['answered_correctly'].shape[0]*100)"
      ]
    },
    {
      "cell_type": "code",
      "execution_count": null,
      "id": "a7eba8fa-6fb6-4552-8926-ea88cf5a97d8",
      "metadata": {
        "id": "a7eba8fa-6fb6-4552-8926-ea88cf5a97d8",
        "outputId": "1d58feee-7e6b-472f-cea5-1d90a14a8d31"
      },
      "outputs": [
        {
          "data": {
            "text/plain": [
              "50"
            ]
          },
          "execution_count": 41,
          "metadata": {},
          "output_type": "execute_result"
        }
      ],
      "source": [
        "# процент верных ответов в датафрэйме без объяснений\n",
        "round(train_df_8[train_df_8['answered_correctly'] == 1 ].shape[0]/train_df_8['answered_correctly'].shape[0]*100)"
      ]
    },
    {
      "cell_type": "markdown",
      "id": "10e06899-ed30-4dc3-952f-93991835ad53",
      "metadata": {
        "id": "10e06899-ed30-4dc3-952f-93991835ad53"
      },
      "source": [
        "# Предобработка данных и анализ"
      ]
    },
    {
      "cell_type": "code",
      "execution_count": null,
      "id": "8eeadde7-bab9-4647-bdcc-0fac377a4727",
      "metadata": {
        "id": "8eeadde7-bab9-4647-bdcc-0fac377a4727"
      },
      "outputs": [],
      "source": [
        "# создаю новый датафрэйм без пропущенных значений для дальнейшего объединения\n",
        "df_temp_02 = train_df.dropna()"
      ]
    },
    {
      "cell_type": "code",
      "execution_count": null,
      "id": "b4d3efef-37ec-4e9e-8c6b-3b6a2833a75f",
      "metadata": {
        "id": "b4d3efef-37ec-4e9e-8c6b-3b6a2833a75f"
      },
      "outputs": [],
      "source": [
        "# создаю новый датафрэйм для дальнейшего объединения\n",
        "df_temp_03 = pd.DataFrame(columns=['content_id', 'bundle_id', 'correct_answer','part','tags'])"
      ]
    },
    {
      "cell_type": "code",
      "execution_count": null,
      "id": "5f8d377b-3549-42aa-beb2-3fd1a9ba8f62",
      "metadata": {
        "id": "5f8d377b-3549-42aa-beb2-3fd1a9ba8f62"
      },
      "outputs": [],
      "source": [
        "df_temp_03['content_id'] = questions_df['question_id']"
      ]
    },
    {
      "cell_type": "code",
      "execution_count": null,
      "id": "54277e7b-bb3b-476b-a84a-d317e46ed698",
      "metadata": {
        "id": "54277e7b-bb3b-476b-a84a-d317e46ed698"
      },
      "outputs": [],
      "source": [
        "df_temp_03['bundle_id'] = questions_df['bundle_id']"
      ]
    },
    {
      "cell_type": "code",
      "execution_count": null,
      "id": "022da9ad-6cb6-494d-b03a-0be2655fbb0b",
      "metadata": {
        "id": "022da9ad-6cb6-494d-b03a-0be2655fbb0b"
      },
      "outputs": [],
      "source": [
        "df_temp_03['correct_answer'] = questions_df['correct_answer']"
      ]
    },
    {
      "cell_type": "code",
      "execution_count": null,
      "id": "b379b4b4-1f13-493d-80e6-b0b76eaedb33",
      "metadata": {
        "id": "b379b4b4-1f13-493d-80e6-b0b76eaedb33"
      },
      "outputs": [],
      "source": [
        "df_temp_03['part'] = questions_df['part']"
      ]
    },
    {
      "cell_type": "code",
      "execution_count": null,
      "id": "7d05d670-162a-435a-9854-d36aa8df01b6",
      "metadata": {
        "id": "7d05d670-162a-435a-9854-d36aa8df01b6"
      },
      "outputs": [],
      "source": [
        "df_temp_03['tags'] = questions_df['tags']"
      ]
    },
    {
      "cell_type": "code",
      "execution_count": null,
      "id": "8397e82b-64f7-4818-b570-6053328ffbbe",
      "metadata": {
        "id": "8397e82b-64f7-4818-b570-6053328ffbbe",
        "outputId": "4b4f4260-b7dd-437f-a031-5226ce1e6c78"
      },
      "outputs": [
        {
          "data": {
            "text/plain": [
              "part\n",
              "5    5511\n",
              "2    1647\n",
              "3    1562\n",
              "4    1439\n",
              "6    1212\n",
              "7    1160\n",
              "1     992\n",
              "Name: count, dtype: int64"
            ]
          },
          "execution_count": 23,
          "metadata": {},
          "output_type": "execute_result"
        }
      ],
      "source": [
        "# распределение вопросов по разделам\n",
        "df_temp_03['part'].value_counts()"
      ]
    },
    {
      "cell_type": "code",
      "execution_count": null,
      "id": "efbd4b45-ebf2-4a0e-a548-58ce74b9d193",
      "metadata": {
        "id": "efbd4b45-ebf2-4a0e-a548-58ce74b9d193"
      },
      "outputs": [],
      "source": [
        "# объединение ранее созданых датафрэймов\n",
        "df_temp_04 = pd.merge(df_temp_02, df_temp_03, on=\"content_id\")"
      ]
    },
    {
      "cell_type": "code",
      "execution_count": null,
      "id": "422b5d5e-3c4a-4f67-80c5-8d8462e9aa61",
      "metadata": {
        "id": "422b5d5e-3c4a-4f67-80c5-8d8462e9aa61",
        "outputId": "b034cb3f-c85c-4235-f74a-8c1d70ed2f37"
      },
      "outputs": [
        {
          "data": {
            "text/html": [
              "<div>\n",
              "<style scoped>\n",
              "    .dataframe tbody tr th:only-of-type {\n",
              "        vertical-align: middle;\n",
              "    }\n",
              "\n",
              "    .dataframe tbody tr th {\n",
              "        vertical-align: top;\n",
              "    }\n",
              "\n",
              "    .dataframe thead th {\n",
              "        text-align: right;\n",
              "    }\n",
              "</style>\n",
              "<table border=\"1\" class=\"dataframe\">\n",
              "  <thead>\n",
              "    <tr style=\"text-align: right;\">\n",
              "      <th></th>\n",
              "      <th>row_id</th>\n",
              "      <th>timestamp</th>\n",
              "      <th>user_id</th>\n",
              "      <th>content_id</th>\n",
              "      <th>content_type_id</th>\n",
              "      <th>task_container_id</th>\n",
              "      <th>user_answer</th>\n",
              "      <th>answered_correctly</th>\n",
              "      <th>prior_question_elapsed_time</th>\n",
              "      <th>prior_question_had_explanation</th>\n",
              "      <th>bundle_id</th>\n",
              "      <th>correct_answer</th>\n",
              "      <th>part</th>\n",
              "      <th>tags</th>\n",
              "    </tr>\n",
              "  </thead>\n",
              "  <tbody>\n",
              "    <tr>\n",
              "      <th>0</th>\n",
              "      <td>1</td>\n",
              "      <td>56943</td>\n",
              "      <td>115</td>\n",
              "      <td>5716</td>\n",
              "      <td>0</td>\n",
              "      <td>2</td>\n",
              "      <td>2</td>\n",
              "      <td>1</td>\n",
              "      <td>37000.0</td>\n",
              "      <td>False</td>\n",
              "      <td>5716</td>\n",
              "      <td>2</td>\n",
              "      <td>5</td>\n",
              "      <td>168</td>\n",
              "    </tr>\n",
              "    <tr>\n",
              "      <th>1</th>\n",
              "      <td>2</td>\n",
              "      <td>118363</td>\n",
              "      <td>115</td>\n",
              "      <td>128</td>\n",
              "      <td>0</td>\n",
              "      <td>0</td>\n",
              "      <td>0</td>\n",
              "      <td>1</td>\n",
              "      <td>55000.0</td>\n",
              "      <td>False</td>\n",
              "      <td>128</td>\n",
              "      <td>0</td>\n",
              "      <td>1</td>\n",
              "      <td>131 149 92</td>\n",
              "    </tr>\n",
              "    <tr>\n",
              "      <th>2</th>\n",
              "      <td>3</td>\n",
              "      <td>131167</td>\n",
              "      <td>115</td>\n",
              "      <td>7860</td>\n",
              "      <td>0</td>\n",
              "      <td>3</td>\n",
              "      <td>0</td>\n",
              "      <td>1</td>\n",
              "      <td>19000.0</td>\n",
              "      <td>False</td>\n",
              "      <td>7860</td>\n",
              "      <td>0</td>\n",
              "      <td>1</td>\n",
              "      <td>131 104 81</td>\n",
              "    </tr>\n",
              "    <tr>\n",
              "      <th>3</th>\n",
              "      <td>4</td>\n",
              "      <td>137965</td>\n",
              "      <td>115</td>\n",
              "      <td>7922</td>\n",
              "      <td>0</td>\n",
              "      <td>4</td>\n",
              "      <td>1</td>\n",
              "      <td>1</td>\n",
              "      <td>11000.0</td>\n",
              "      <td>False</td>\n",
              "      <td>7922</td>\n",
              "      <td>1</td>\n",
              "      <td>1</td>\n",
              "      <td>131 149 92</td>\n",
              "    </tr>\n",
              "    <tr>\n",
              "      <th>4</th>\n",
              "      <td>5</td>\n",
              "      <td>157063</td>\n",
              "      <td>115</td>\n",
              "      <td>156</td>\n",
              "      <td>0</td>\n",
              "      <td>5</td>\n",
              "      <td>2</td>\n",
              "      <td>1</td>\n",
              "      <td>5000.0</td>\n",
              "      <td>False</td>\n",
              "      <td>156</td>\n",
              "      <td>2</td>\n",
              "      <td>1</td>\n",
              "      <td>131 101 162 38</td>\n",
              "    </tr>\n",
              "    <tr>\n",
              "      <th>...</th>\n",
              "      <td>...</td>\n",
              "      <td>...</td>\n",
              "      <td>...</td>\n",
              "      <td>...</td>\n",
              "      <td>...</td>\n",
              "      <td>...</td>\n",
              "      <td>...</td>\n",
              "      <td>...</td>\n",
              "      <td>...</td>\n",
              "      <td>...</td>\n",
              "      <td>...</td>\n",
              "      <td>...</td>\n",
              "      <td>...</td>\n",
              "      <td>...</td>\n",
              "    </tr>\n",
              "    <tr>\n",
              "      <th>98878789</th>\n",
              "      <td>101230327</td>\n",
              "      <td>428564420</td>\n",
              "      <td>2147482888</td>\n",
              "      <td>3586</td>\n",
              "      <td>0</td>\n",
              "      <td>22</td>\n",
              "      <td>0</td>\n",
              "      <td>1</td>\n",
              "      <td>18000.0</td>\n",
              "      <td>True</td>\n",
              "      <td>3586</td>\n",
              "      <td>0</td>\n",
              "      <td>5</td>\n",
              "      <td>8</td>\n",
              "    </tr>\n",
              "    <tr>\n",
              "      <th>98878790</th>\n",
              "      <td>101230328</td>\n",
              "      <td>428585000</td>\n",
              "      <td>2147482888</td>\n",
              "      <td>6341</td>\n",
              "      <td>0</td>\n",
              "      <td>23</td>\n",
              "      <td>3</td>\n",
              "      <td>1</td>\n",
              "      <td>14000.0</td>\n",
              "      <td>True</td>\n",
              "      <td>6341</td>\n",
              "      <td>3</td>\n",
              "      <td>5</td>\n",
              "      <td>60</td>\n",
              "    </tr>\n",
              "    <tr>\n",
              "      <th>98878791</th>\n",
              "      <td>101230329</td>\n",
              "      <td>428613475</td>\n",
              "      <td>2147482888</td>\n",
              "      <td>4212</td>\n",
              "      <td>0</td>\n",
              "      <td>24</td>\n",
              "      <td>3</td>\n",
              "      <td>1</td>\n",
              "      <td>14000.0</td>\n",
              "      <td>True</td>\n",
              "      <td>4212</td>\n",
              "      <td>3</td>\n",
              "      <td>5</td>\n",
              "      <td>95</td>\n",
              "    </tr>\n",
              "    <tr>\n",
              "      <th>98878792</th>\n",
              "      <td>101230330</td>\n",
              "      <td>428649406</td>\n",
              "      <td>2147482888</td>\n",
              "      <td>6343</td>\n",
              "      <td>0</td>\n",
              "      <td>25</td>\n",
              "      <td>1</td>\n",
              "      <td>0</td>\n",
              "      <td>22000.0</td>\n",
              "      <td>True</td>\n",
              "      <td>6343</td>\n",
              "      <td>0</td>\n",
              "      <td>5</td>\n",
              "      <td>60</td>\n",
              "    </tr>\n",
              "    <tr>\n",
              "      <th>98878793</th>\n",
              "      <td>101230331</td>\n",
              "      <td>428692118</td>\n",
              "      <td>2147482888</td>\n",
              "      <td>7995</td>\n",
              "      <td>0</td>\n",
              "      <td>26</td>\n",
              "      <td>3</td>\n",
              "      <td>1</td>\n",
              "      <td>29000.0</td>\n",
              "      <td>True</td>\n",
              "      <td>7995</td>\n",
              "      <td>3</td>\n",
              "      <td>5</td>\n",
              "      <td>80</td>\n",
              "    </tr>\n",
              "  </tbody>\n",
              "</table>\n",
              "<p>98878794 rows × 14 columns</p>\n",
              "</div>"
            ],
            "text/plain": [
              "             row_id  timestamp     user_id  content_id  content_type_id  \\\n",
              "0                 1      56943         115        5716                0   \n",
              "1                 2     118363         115         128                0   \n",
              "2                 3     131167         115        7860                0   \n",
              "3                 4     137965         115        7922                0   \n",
              "4                 5     157063         115         156                0   \n",
              "...             ...        ...         ...         ...              ...   \n",
              "98878789  101230327  428564420  2147482888        3586                0   \n",
              "98878790  101230328  428585000  2147482888        6341                0   \n",
              "98878791  101230329  428613475  2147482888        4212                0   \n",
              "98878792  101230330  428649406  2147482888        6343                0   \n",
              "98878793  101230331  428692118  2147482888        7995                0   \n",
              "\n",
              "          task_container_id  user_answer  answered_correctly  \\\n",
              "0                         2            2                   1   \n",
              "1                         0            0                   1   \n",
              "2                         3            0                   1   \n",
              "3                         4            1                   1   \n",
              "4                         5            2                   1   \n",
              "...                     ...          ...                 ...   \n",
              "98878789                 22            0                   1   \n",
              "98878790                 23            3                   1   \n",
              "98878791                 24            3                   1   \n",
              "98878792                 25            1                   0   \n",
              "98878793                 26            3                   1   \n",
              "\n",
              "          prior_question_elapsed_time prior_question_had_explanation  \\\n",
              "0                             37000.0                          False   \n",
              "1                             55000.0                          False   \n",
              "2                             19000.0                          False   \n",
              "3                             11000.0                          False   \n",
              "4                              5000.0                          False   \n",
              "...                               ...                            ...   \n",
              "98878789                      18000.0                           True   \n",
              "98878790                      14000.0                           True   \n",
              "98878791                      14000.0                           True   \n",
              "98878792                      22000.0                           True   \n",
              "98878793                      29000.0                           True   \n",
              "\n",
              "          bundle_id  correct_answer  part            tags  \n",
              "0              5716               2     5             168  \n",
              "1               128               0     1      131 149 92  \n",
              "2              7860               0     1      131 104 81  \n",
              "3              7922               1     1      131 149 92  \n",
              "4               156               2     1  131 101 162 38  \n",
              "...             ...             ...   ...             ...  \n",
              "98878789       3586               0     5               8  \n",
              "98878790       6341               3     5              60  \n",
              "98878791       4212               3     5              95  \n",
              "98878792       6343               0     5              60  \n",
              "98878793       7995               3     5              80  \n",
              "\n",
              "[98878794 rows x 14 columns]"
            ]
          },
          "execution_count": 591,
          "metadata": {},
          "output_type": "execute_result"
        }
      ],
      "source": [
        "df_temp_04"
      ]
    },
    {
      "cell_type": "code",
      "execution_count": null,
      "id": "7d746c35-2bb4-4f28-a9ae-cb641035e6e0",
      "metadata": {
        "id": "7d746c35-2bb4-4f28-a9ae-cb641035e6e0",
        "outputId": "eff3cfd3-b64c-431d-f492-76badbeb3dfd"
      },
      "outputs": [
        {
          "data": {
            "text/plain": [
              "74"
            ]
          },
          "execution_count": 593,
          "metadata": {},
          "output_type": "execute_result"
        }
      ],
      "source": [
        "# процент верных ответов в разделе 1\n",
        "round(df_temp_04[(df_temp_04['part'] == 1) & (df_temp_04['answered_correctly'] == 1)].shape[0]/df_temp_04[df_temp_04['part'] == 1].shape[0]*100)"
      ]
    },
    {
      "cell_type": "code",
      "execution_count": null,
      "id": "26427e68-77fb-44db-ab16-54b811edcb80",
      "metadata": {
        "id": "26427e68-77fb-44db-ab16-54b811edcb80",
        "outputId": "1d146365-5917-405d-ffe3-378b620f45fb"
      },
      "outputs": [
        {
          "data": {
            "text/plain": [
              "71"
            ]
          },
          "execution_count": 595,
          "metadata": {},
          "output_type": "execute_result"
        }
      ],
      "source": [
        "# процент верных ответов в разделе 2\n",
        "round(df_temp_04[(df_temp_04['part'] == 2) & (df_temp_04['answered_correctly'] == 1)].shape[0]/df_temp_04[df_temp_04['part'] == 2].shape[0]*100)"
      ]
    },
    {
      "cell_type": "code",
      "execution_count": null,
      "id": "f9f8a809-7a53-4fcf-aaea-f075175a058c",
      "metadata": {
        "id": "f9f8a809-7a53-4fcf-aaea-f075175a058c",
        "outputId": "421adbde-e2e1-441d-b847-708391614caa"
      },
      "outputs": [
        {
          "data": {
            "text/plain": [
              "70"
            ]
          },
          "execution_count": 597,
          "metadata": {},
          "output_type": "execute_result"
        }
      ],
      "source": [
        "# процент верных ответов в разделе 3\n",
        "round(df_temp_04[(df_temp_04['part'] == 3) & (df_temp_04['answered_correctly'] == 1)].shape[0]/df_temp_04[df_temp_04['part'] == 3].shape[0]*100)"
      ]
    },
    {
      "cell_type": "code",
      "execution_count": null,
      "id": "e599d846-ca73-4bd4-9b0f-103c6b2eb6be",
      "metadata": {
        "id": "e599d846-ca73-4bd4-9b0f-103c6b2eb6be",
        "outputId": "e9e68c27-95a8-4232-fe96-6f4724f0c749"
      },
      "outputs": [
        {
          "data": {
            "text/plain": [
              "63"
            ]
          },
          "execution_count": 599,
          "metadata": {},
          "output_type": "execute_result"
        }
      ],
      "source": [
        "# процент верных ответов в разделе 4\n",
        "round(df_temp_04[(df_temp_04['part'] == 4) & (df_temp_04['answered_correctly'] == 1)].shape[0]/df_temp_04[df_temp_04['part'] == 4].shape[0]*100)"
      ]
    },
    {
      "cell_type": "code",
      "execution_count": null,
      "id": "9cf29c68-ac39-49c0-abd3-d757b37ca32f",
      "metadata": {
        "id": "9cf29c68-ac39-49c0-abd3-d757b37ca32f",
        "outputId": "71b2b5cf-6ff8-4eb7-8c6c-c4c03cf848ea"
      },
      "outputs": [
        {
          "data": {
            "text/plain": [
              "61"
            ]
          },
          "execution_count": 601,
          "metadata": {},
          "output_type": "execute_result"
        }
      ],
      "source": [
        "# процент верных ответов в разделе 5\n",
        "round(df_temp_04[(df_temp_04['part'] == 5) & (df_temp_04['answered_correctly'] == 1)].shape[0]/df_temp_04[df_temp_04['part'] == 5].shape[0]*100)"
      ]
    },
    {
      "cell_type": "code",
      "execution_count": null,
      "id": "743b9f7d-b067-43df-b0e0-7d2e8d52fded",
      "metadata": {
        "id": "743b9f7d-b067-43df-b0e0-7d2e8d52fded",
        "outputId": "387899a9-1722-4d85-97e6-c922f355a325"
      },
      "outputs": [
        {
          "data": {
            "text/plain": [
              "67"
            ]
          },
          "execution_count": 603,
          "metadata": {},
          "output_type": "execute_result"
        }
      ],
      "source": [
        "# процент верных ответов в разделе 6\n",
        "round(df_temp_04[(df_temp_04['part'] == 6) & (df_temp_04['answered_correctly'] == 1)].shape[0]/df_temp_04[df_temp_04['part'] == 6].shape[0]*100)"
      ]
    },
    {
      "cell_type": "code",
      "execution_count": null,
      "id": "67a7eaba-7d85-41d9-920a-353d7b698b4e",
      "metadata": {
        "id": "67a7eaba-7d85-41d9-920a-353d7b698b4e",
        "outputId": "b14e0fac-eea6-44f9-a3d4-ae1ccd690bd2"
      },
      "outputs": [
        {
          "data": {
            "text/plain": [
              "66"
            ]
          },
          "execution_count": 605,
          "metadata": {},
          "output_type": "execute_result"
        }
      ],
      "source": [
        "# процент верных ответов в разделе 7\n",
        "round(df_temp_04[(df_temp_04['part'] == 7) & (df_temp_04['answered_correctly'] == 1)].shape[0]/df_temp_04[df_temp_04['part'] == 7].shape[0]*100)"
      ]
    },
    {
      "cell_type": "code",
      "execution_count": null,
      "id": "346a51db-c60b-4137-8a8b-f454794be07f",
      "metadata": {
        "id": "346a51db-c60b-4137-8a8b-f454794be07f"
      },
      "outputs": [],
      "source": [
        "# создаю новый датафрэйм для дальнейшего объединения\n",
        "df_temp_05 = pd.DataFrame(columns=['content_id', 'tag', 'part_l','type_of'])"
      ]
    },
    {
      "cell_type": "code",
      "execution_count": null,
      "id": "7d2b7a74-8645-432e-99ad-9afe62603515",
      "metadata": {
        "id": "7d2b7a74-8645-432e-99ad-9afe62603515"
      },
      "outputs": [],
      "source": [
        "df_temp_05['content_id'] = lectures_df['lecture_id']"
      ]
    },
    {
      "cell_type": "code",
      "execution_count": null,
      "id": "9cc1ffd5-326c-41b3-abd5-34f9f5e8bcdf",
      "metadata": {
        "id": "9cc1ffd5-326c-41b3-abd5-34f9f5e8bcdf"
      },
      "outputs": [],
      "source": [
        "df_temp_05['tag'] = lectures_df['tag']"
      ]
    },
    {
      "cell_type": "code",
      "execution_count": null,
      "id": "b72c4972-9a25-466e-ad40-9a204cf4e6bb",
      "metadata": {
        "id": "b72c4972-9a25-466e-ad40-9a204cf4e6bb"
      },
      "outputs": [],
      "source": [
        "df_temp_05['part_l'] = lectures_df['part']\n"
      ]
    },
    {
      "cell_type": "code",
      "execution_count": null,
      "id": "1508ebbc-610d-42ae-b770-dc159715717c",
      "metadata": {
        "id": "1508ebbc-610d-42ae-b770-dc159715717c"
      },
      "outputs": [],
      "source": [
        "df_temp_05['type_of'] = lectures_df['type_of']"
      ]
    },
    {
      "cell_type": "code",
      "execution_count": null,
      "id": "d26258f2-cf51-40b3-9a71-056ac3a935ae",
      "metadata": {
        "id": "d26258f2-cf51-40b3-9a71-056ac3a935ae"
      },
      "outputs": [],
      "source": [
        "# создаю новый датафрэйм без двух последних столбцов, для их смещения\n",
        "df_temp_01 = train_df.drop(columns=['prior_question_elapsed_time','prior_question_had_explanation'])"
      ]
    },
    {
      "cell_type": "code",
      "execution_count": null,
      "id": "da94af3a-fee1-41ec-a006-d4980eaca5d0",
      "metadata": {
        "id": "da94af3a-fee1-41ec-a006-d4980eaca5d0"
      },
      "outputs": [],
      "source": [
        "# смещаю столбец с затраченным временем\n",
        "df_question_elapsed_time = pd.DataFrame(columns=['question_elapsed_time'])\n",
        "df_question_elapsed_time['question_elapsed_time'] = train_df['prior_question_elapsed_time'].shift(periods=-1, freq=None, axis=0)"
      ]
    },
    {
      "cell_type": "code",
      "execution_count": null,
      "id": "0567d883-7f05-44f8-9956-451d5e56eec0",
      "metadata": {
        "id": "0567d883-7f05-44f8-9956-451d5e56eec0"
      },
      "outputs": [],
      "source": [
        "# присоединяю столбец со смещением\n",
        "df_temp_01['question_elapsed_time']=df_question_elapsed_time['question_elapsed_time']"
      ]
    },
    {
      "cell_type": "code",
      "execution_count": null,
      "id": "a92f34a4-b862-48a1-a632-e5c2e0184211",
      "metadata": {
        "id": "a92f34a4-b862-48a1-a632-e5c2e0184211"
      },
      "outputs": [],
      "source": [
        "# присоединяю смещенный столбец с пояснениями\n",
        "df_temp_01['question_had_explanation']=train_df['prior_question_had_explanation'].shift(periods=-1, freq=None, axis=0)"
      ]
    },
    {
      "cell_type": "code",
      "execution_count": null,
      "id": "5c456aa3-fc38-4bf8-8bd1-7582063bd6f0",
      "metadata": {
        "id": "5c456aa3-fc38-4bf8-8bd1-7582063bd6f0"
      },
      "outputs": [],
      "source": [
        "# объединение ранее созданых датафрэймов\n",
        "df_temp_00 = pd.merge(df_temp_05, df_temp_03, how=\"right\", on=\"content_id\")"
      ]
    },
    {
      "cell_type": "code",
      "execution_count": null,
      "id": "dc3e956e-ebc1-41da-8675-63e674b47310",
      "metadata": {
        "id": "dc3e956e-ebc1-41da-8675-63e674b47310"
      },
      "outputs": [],
      "source": [
        "# объединение ранее созданых датафрэймов\n",
        "df_temp_07 = pd.merge(df_temp_01, df_temp_00, on=\"content_id\")\n"
      ]
    },
    {
      "cell_type": "code",
      "execution_count": null,
      "id": "c31e9b9e-d12e-4d12-ac74-78b0889d6c65",
      "metadata": {
        "id": "c31e9b9e-d12e-4d12-ac74-78b0889d6c65",
        "outputId": "db84fa9e-9c57-42f9-e92d-96e67ba492bc"
      },
      "outputs": [
        {
          "data": {
            "text/html": [
              "<div>\n",
              "<style scoped>\n",
              "    .dataframe tbody tr th:only-of-type {\n",
              "        vertical-align: middle;\n",
              "    }\n",
              "\n",
              "    .dataframe tbody tr th {\n",
              "        vertical-align: top;\n",
              "    }\n",
              "\n",
              "    .dataframe thead th {\n",
              "        text-align: right;\n",
              "    }\n",
              "</style>\n",
              "<table border=\"1\" class=\"dataframe\">\n",
              "  <thead>\n",
              "    <tr style=\"text-align: right;\">\n",
              "      <th></th>\n",
              "      <th>row_id</th>\n",
              "      <th>timestamp</th>\n",
              "      <th>user_id</th>\n",
              "      <th>content_id</th>\n",
              "      <th>content_type_id</th>\n",
              "      <th>task_container_id</th>\n",
              "      <th>user_answer</th>\n",
              "      <th>answered_correctly</th>\n",
              "      <th>question_elapsed_time</th>\n",
              "      <th>question_had_explanation</th>\n",
              "      <th>tag</th>\n",
              "      <th>part_l</th>\n",
              "      <th>type_of</th>\n",
              "      <th>bundle_id</th>\n",
              "      <th>correct_answer</th>\n",
              "      <th>part</th>\n",
              "      <th>tags</th>\n",
              "    </tr>\n",
              "  </thead>\n",
              "  <tbody>\n",
              "    <tr>\n",
              "      <th>0</th>\n",
              "      <td>0</td>\n",
              "      <td>0</td>\n",
              "      <td>115</td>\n",
              "      <td>5692</td>\n",
              "      <td>0</td>\n",
              "      <td>1</td>\n",
              "      <td>3</td>\n",
              "      <td>1</td>\n",
              "      <td>37000.0</td>\n",
              "      <td>False</td>\n",
              "      <td>NaN</td>\n",
              "      <td>NaN</td>\n",
              "      <td>NaN</td>\n",
              "      <td>5692</td>\n",
              "      <td>3</td>\n",
              "      <td>5</td>\n",
              "      <td>151</td>\n",
              "    </tr>\n",
              "    <tr>\n",
              "      <th>1</th>\n",
              "      <td>1</td>\n",
              "      <td>56943</td>\n",
              "      <td>115</td>\n",
              "      <td>5716</td>\n",
              "      <td>0</td>\n",
              "      <td>2</td>\n",
              "      <td>2</td>\n",
              "      <td>1</td>\n",
              "      <td>55000.0</td>\n",
              "      <td>False</td>\n",
              "      <td>NaN</td>\n",
              "      <td>NaN</td>\n",
              "      <td>NaN</td>\n",
              "      <td>5716</td>\n",
              "      <td>2</td>\n",
              "      <td>5</td>\n",
              "      <td>168</td>\n",
              "    </tr>\n",
              "    <tr>\n",
              "      <th>2</th>\n",
              "      <td>2</td>\n",
              "      <td>118363</td>\n",
              "      <td>115</td>\n",
              "      <td>128</td>\n",
              "      <td>0</td>\n",
              "      <td>0</td>\n",
              "      <td>0</td>\n",
              "      <td>1</td>\n",
              "      <td>19000.0</td>\n",
              "      <td>False</td>\n",
              "      <td>NaN</td>\n",
              "      <td>NaN</td>\n",
              "      <td>NaN</td>\n",
              "      <td>128</td>\n",
              "      <td>0</td>\n",
              "      <td>1</td>\n",
              "      <td>131 149 92</td>\n",
              "    </tr>\n",
              "    <tr>\n",
              "      <th>3</th>\n",
              "      <td>3</td>\n",
              "      <td>131167</td>\n",
              "      <td>115</td>\n",
              "      <td>7860</td>\n",
              "      <td>0</td>\n",
              "      <td>3</td>\n",
              "      <td>0</td>\n",
              "      <td>1</td>\n",
              "      <td>11000.0</td>\n",
              "      <td>False</td>\n",
              "      <td>NaN</td>\n",
              "      <td>NaN</td>\n",
              "      <td>NaN</td>\n",
              "      <td>7860</td>\n",
              "      <td>0</td>\n",
              "      <td>1</td>\n",
              "      <td>131 104 81</td>\n",
              "    </tr>\n",
              "    <tr>\n",
              "      <th>4</th>\n",
              "      <td>4</td>\n",
              "      <td>137965</td>\n",
              "      <td>115</td>\n",
              "      <td>7922</td>\n",
              "      <td>0</td>\n",
              "      <td>4</td>\n",
              "      <td>1</td>\n",
              "      <td>1</td>\n",
              "      <td>5000.0</td>\n",
              "      <td>False</td>\n",
              "      <td>NaN</td>\n",
              "      <td>NaN</td>\n",
              "      <td>NaN</td>\n",
              "      <td>7922</td>\n",
              "      <td>1</td>\n",
              "      <td>1</td>\n",
              "      <td>131 149 92</td>\n",
              "    </tr>\n",
              "  </tbody>\n",
              "</table>\n",
              "</div>"
            ],
            "text/plain": [
              "   row_id  timestamp  user_id  content_id  content_type_id  task_container_id  \\\n",
              "0       0          0      115        5692                0                  1   \n",
              "1       1      56943      115        5716                0                  2   \n",
              "2       2     118363      115         128                0                  0   \n",
              "3       3     131167      115        7860                0                  3   \n",
              "4       4     137965      115        7922                0                  4   \n",
              "\n",
              "   user_answer  answered_correctly  question_elapsed_time  \\\n",
              "0            3                   1                37000.0   \n",
              "1            2                   1                55000.0   \n",
              "2            0                   1                19000.0   \n",
              "3            0                   1                11000.0   \n",
              "4            1                   1                 5000.0   \n",
              "\n",
              "  question_had_explanation  tag  part_l type_of  bundle_id  correct_answer  \\\n",
              "0                    False  NaN     NaN     NaN       5692               3   \n",
              "1                    False  NaN     NaN     NaN       5716               2   \n",
              "2                    False  NaN     NaN     NaN        128               0   \n",
              "3                    False  NaN     NaN     NaN       7860               0   \n",
              "4                    False  NaN     NaN     NaN       7922               1   \n",
              "\n",
              "   part        tags  \n",
              "0     5         151  \n",
              "1     5         168  \n",
              "2     1  131 149 92  \n",
              "3     1  131 104 81  \n",
              "4     1  131 149 92  "
            ]
          },
          "execution_count": 647,
          "metadata": {},
          "output_type": "execute_result"
        }
      ],
      "source": [
        "df_temp_07.head()"
      ]
    },
    {
      "cell_type": "code",
      "execution_count": null,
      "id": "f59f0519-3e64-4b76-8fe8-7fae83313597",
      "metadata": {
        "id": "f59f0519-3e64-4b76-8fe8-7fae83313597"
      },
      "outputs": [],
      "source": [
        "# создаю новый датафрэйм\n",
        "df_temp_08 = df_temp_01[df_temp_01['answered_correctly'] ==1].dropna()"
      ]
    },
    {
      "cell_type": "code",
      "execution_count": null,
      "id": "be9934eb-b3bd-457a-ada2-c9d3285d9dc3",
      "metadata": {
        "id": "be9934eb-b3bd-457a-ada2-c9d3285d9dc3"
      },
      "outputs": [],
      "source": [
        "# создаю новый датафрэйм с двумя столбцаим для дальнейшей группировки\n",
        "df_temp_09 = df_temp_08[['answered_correctly','question_elapsed_time']].copy()"
      ]
    },
    {
      "cell_type": "code",
      "execution_count": null,
      "id": "b185f4bb-0a5f-46cd-94f6-9cbdc5025bc1",
      "metadata": {
        "id": "b185f4bb-0a5f-46cd-94f6-9cbdc5025bc1"
      },
      "outputs": [],
      "source": [
        "#  группирую по затраченному на ответ времени ранее созданный датафрэйм\n",
        "summed_df = df_temp_09.groupby('question_elapsed_time', as_index=False).sum()"
      ]
    },
    {
      "cell_type": "code",
      "execution_count": null,
      "id": "85ba1ef8-3441-4d10-b98d-31ce6fdd06fd",
      "metadata": {
        "id": "85ba1ef8-3441-4d10-b98d-31ce6fdd06fd",
        "outputId": "06a59002-a1da-437a-d5c9-4adcf302bcef"
      },
      "outputs": [
        {
          "data": {
            "text/plain": [
              "24414.31131420646"
            ]
          },
          "execution_count": 322,
          "metadata": {},
          "output_type": "execute_result"
        }
      ],
      "source": [
        "df_temp_09['question_elapsed_time'].mean()"
      ]
    },
    {
      "cell_type": "code",
      "execution_count": null,
      "id": "79ab187b-36bf-475d-bc6c-98439b51adae",
      "metadata": {
        "id": "79ab187b-36bf-475d-bc6c-98439b51adae"
      },
      "outputs": [],
      "source": [
        "\n"
      ]
    },
    {
      "cell_type": "code",
      "execution_count": null,
      "id": "5c43982c-2597-4f59-a41d-0a4f9cc07f16",
      "metadata": {
        "id": "5c43982c-2597-4f59-a41d-0a4f9cc07f16"
      },
      "outputs": [],
      "source": [
        "# создаю новый датафрэйм с двумя столбцаим для дальнейшей группировки\n",
        "df_temp_10 = df_temp_08[['answered_correctly','question_had_explanation']].copy()"
      ]
    },
    {
      "cell_type": "code",
      "execution_count": null,
      "id": "a2e0bbd0-f3aa-4eae-b67f-2ac697b34b3c",
      "metadata": {
        "id": "a2e0bbd0-f3aa-4eae-b67f-2ac697b34b3c"
      },
      "outputs": [],
      "source": [
        "#  группирую по полученным пояснениям ранее созданный датафрэйм\n",
        "summed_df_2 = df_temp_10.groupby('question_had_explanation', as_index=False).sum()"
      ]
    },
    {
      "cell_type": "code",
      "execution_count": null,
      "id": "9d7b55f8-885d-4cfa-aa14-6cdbd59b968d",
      "metadata": {
        "id": "9d7b55f8-885d-4cfa-aa14-6cdbd59b968d",
        "outputId": "2be6b8a5-631c-4fe4-cae1-2af235f8b667"
      },
      "outputs": [
        {
          "data": {
            "text/html": [
              "<div>\n",
              "<style scoped>\n",
              "    .dataframe tbody tr th:only-of-type {\n",
              "        vertical-align: middle;\n",
              "    }\n",
              "\n",
              "    .dataframe tbody tr th {\n",
              "        vertical-align: top;\n",
              "    }\n",
              "\n",
              "    .dataframe thead th {\n",
              "        text-align: right;\n",
              "    }\n",
              "</style>\n",
              "<table border=\"1\" class=\"dataframe\">\n",
              "  <thead>\n",
              "    <tr style=\"text-align: right;\">\n",
              "      <th></th>\n",
              "      <th>question_had_explanation</th>\n",
              "      <th>answered_correctly</th>\n",
              "    </tr>\n",
              "  </thead>\n",
              "  <tbody>\n",
              "    <tr>\n",
              "      <th>0</th>\n",
              "      <td>False</td>\n",
              "      <td>4569080</td>\n",
              "    </tr>\n",
              "    <tr>\n",
              "      <th>1</th>\n",
              "      <td>True</td>\n",
              "      <td>59630650</td>\n",
              "    </tr>\n",
              "  </tbody>\n",
              "</table>\n",
              "</div>"
            ],
            "text/plain": [
              "  question_had_explanation  answered_correctly\n",
              "0                    False             4569080\n",
              "1                     True            59630650"
            ]
          },
          "execution_count": 58,
          "metadata": {},
          "output_type": "execute_result"
        }
      ],
      "source": [
        "summed_df_2"
      ]
    },
    {
      "cell_type": "code",
      "execution_count": null,
      "id": "0a119868-6984-4803-8872-876a8742b52a",
      "metadata": {
        "id": "0a119868-6984-4803-8872-876a8742b52a"
      },
      "outputs": [],
      "source": [
        "# создаю новый датафрэйм с двумя столбцаим для дальнейшей группировки\n",
        "df_temp_11 = df_temp_07[['answered_correctly','part']].copy()"
      ]
    },
    {
      "cell_type": "code",
      "execution_count": null,
      "id": "4efcb772-28ea-424c-9442-76e97df1ba26",
      "metadata": {
        "id": "4efcb772-28ea-424c-9442-76e97df1ba26"
      },
      "outputs": [],
      "source": [
        "#  группирую по разделам ранее созданный датафрэйм\n",
        "summed_df_3 = df_temp_11.groupby('part', as_index=False).sum()"
      ]
    },
    {
      "cell_type": "code",
      "execution_count": null,
      "id": "2078d93f-5d1f-43fa-a939-11c70079fb34",
      "metadata": {
        "id": "2078d93f-5d1f-43fa-a939-11c70079fb34"
      },
      "outputs": [],
      "source": [
        "#  процент правильных ответов по разделам\n",
        "# summed_df_3 = round(summed_df_3['answered_correctly']/summed_df_3['answered_correctly'].sum()*100)\n"
      ]
    },
    {
      "cell_type": "code",
      "execution_count": null,
      "id": "264cd3ed-fe29-4a47-a70d-f9ac105dd949",
      "metadata": {
        "id": "264cd3ed-fe29-4a47-a70d-f9ac105dd949",
        "outputId": "98c9d858-bdb3-4474-ad5e-fee14952da56"
      },
      "outputs": [
        {
          "data": {
            "text/html": [
              "<div>\n",
              "<style scoped>\n",
              "    .dataframe tbody tr th:only-of-type {\n",
              "        vertical-align: middle;\n",
              "    }\n",
              "\n",
              "    .dataframe tbody tr th {\n",
              "        vertical-align: top;\n",
              "    }\n",
              "\n",
              "    .dataframe thead th {\n",
              "        text-align: right;\n",
              "    }\n",
              "</style>\n",
              "<table border=\"1\" class=\"dataframe\">\n",
              "  <thead>\n",
              "    <tr style=\"text-align: right;\">\n",
              "      <th></th>\n",
              "      <th>part</th>\n",
              "      <th>answered_correctly</th>\n",
              "    </tr>\n",
              "  </thead>\n",
              "  <tbody>\n",
              "    <tr>\n",
              "      <th>0</th>\n",
              "      <td>1</td>\n",
              "      <td>5455058</td>\n",
              "    </tr>\n",
              "    <tr>\n",
              "      <th>1</th>\n",
              "      <td>2</td>\n",
              "      <td>13208652</td>\n",
              "    </tr>\n",
              "    <tr>\n",
              "      <th>2</th>\n",
              "      <td>3</td>\n",
              "      <td>5982971</td>\n",
              "    </tr>\n",
              "    <tr>\n",
              "      <th>3</th>\n",
              "      <td>4</td>\n",
              "      <td>4981143</td>\n",
              "    </tr>\n",
              "    <tr>\n",
              "      <th>4</th>\n",
              "      <td>5</td>\n",
              "      <td>24665950</td>\n",
              "    </tr>\n",
              "    <tr>\n",
              "      <th>5</th>\n",
              "      <td>6</td>\n",
              "      <td>6937505</td>\n",
              "    </tr>\n",
              "    <tr>\n",
              "      <th>6</th>\n",
              "      <td>7</td>\n",
              "      <td>3246123</td>\n",
              "    </tr>\n",
              "  </tbody>\n",
              "</table>\n",
              "</div>"
            ],
            "text/plain": [
              "   part  answered_correctly\n",
              "0     1             5455058\n",
              "1     2            13208652\n",
              "2     3             5982971\n",
              "3     4             4981143\n",
              "4     5            24665950\n",
              "5     6             6937505\n",
              "6     7             3246123"
            ]
          },
          "execution_count": 338,
          "metadata": {},
          "output_type": "execute_result"
        }
      ],
      "source": [
        "summed_df_3"
      ]
    },
    {
      "cell_type": "code",
      "execution_count": null,
      "id": "f17f833e-2a70-402b-82e4-480b2f8b7491",
      "metadata": {
        "id": "f17f833e-2a70-402b-82e4-480b2f8b7491"
      },
      "outputs": [],
      "source": [
        "# создаю новый датафрэйм с двумя столбцаим для дальнейшей группировки\n",
        "df_temp_11 = train_df[['task_container_id','answered_correctly']].copy()"
      ]
    },
    {
      "cell_type": "code",
      "execution_count": null,
      "id": "60dd9d27-b6f1-432d-9bb1-d9260a9a0cbe",
      "metadata": {
        "id": "60dd9d27-b6f1-432d-9bb1-d9260a9a0cbe"
      },
      "outputs": [],
      "source": [
        "#  группирую по пакетам ранее созданный датафрэйм\n",
        "counts_df_3 = df_temp_11.groupby('task_container_id', as_index=False).sum()"
      ]
    },
    {
      "cell_type": "code",
      "execution_count": null,
      "id": "9ef5dc4c-9f92-4ce8-a20e-f7640a706b6c",
      "metadata": {
        "id": "9ef5dc4c-9f92-4ce8-a20e-f7640a706b6c",
        "outputId": "8e8132c4-50ab-4243-e7f1-0239a9817859"
      },
      "outputs": [
        {
          "data": {
            "text/html": [
              "<div>\n",
              "<style scoped>\n",
              "    .dataframe tbody tr th:only-of-type {\n",
              "        vertical-align: middle;\n",
              "    }\n",
              "\n",
              "    .dataframe tbody tr th {\n",
              "        vertical-align: top;\n",
              "    }\n",
              "\n",
              "    .dataframe thead th {\n",
              "        text-align: right;\n",
              "    }\n",
              "</style>\n",
              "<table border=\"1\" class=\"dataframe\">\n",
              "  <thead>\n",
              "    <tr style=\"text-align: right;\">\n",
              "      <th></th>\n",
              "      <th>task_container_id</th>\n",
              "      <th>answered_correctly</th>\n",
              "    </tr>\n",
              "  </thead>\n",
              "  <tbody>\n",
              "    <tr>\n",
              "      <th>0</th>\n",
              "      <td>0</td>\n",
              "      <td>269158</td>\n",
              "    </tr>\n",
              "    <tr>\n",
              "      <th>1</th>\n",
              "      <td>1</td>\n",
              "      <td>208649</td>\n",
              "    </tr>\n",
              "    <tr>\n",
              "      <th>2</th>\n",
              "      <td>2</td>\n",
              "      <td>172287</td>\n",
              "    </tr>\n",
              "    <tr>\n",
              "      <th>3</th>\n",
              "      <td>3</td>\n",
              "      <td>214675</td>\n",
              "    </tr>\n",
              "    <tr>\n",
              "      <th>4</th>\n",
              "      <td>4</td>\n",
              "      <td>330036</td>\n",
              "    </tr>\n",
              "    <tr>\n",
              "      <th>...</th>\n",
              "      <td>...</td>\n",
              "      <td>...</td>\n",
              "    </tr>\n",
              "    <tr>\n",
              "      <th>9995</th>\n",
              "      <td>9995</td>\n",
              "      <td>144</td>\n",
              "    </tr>\n",
              "    <tr>\n",
              "      <th>9996</th>\n",
              "      <td>9996</td>\n",
              "      <td>138</td>\n",
              "    </tr>\n",
              "    <tr>\n",
              "      <th>9997</th>\n",
              "      <td>9997</td>\n",
              "      <td>140</td>\n",
              "    </tr>\n",
              "    <tr>\n",
              "      <th>9998</th>\n",
              "      <td>9998</td>\n",
              "      <td>142</td>\n",
              "    </tr>\n",
              "    <tr>\n",
              "      <th>9999</th>\n",
              "      <td>9999</td>\n",
              "      <td>125</td>\n",
              "    </tr>\n",
              "  </tbody>\n",
              "</table>\n",
              "<p>10000 rows × 2 columns</p>\n",
              "</div>"
            ],
            "text/plain": [
              "      task_container_id  answered_correctly\n",
              "0                     0              269158\n",
              "1                     1              208649\n",
              "2                     2              172287\n",
              "3                     3              214675\n",
              "4                     4              330036\n",
              "...                 ...                 ...\n",
              "9995               9995                 144\n",
              "9996               9996                 138\n",
              "9997               9997                 140\n",
              "9998               9998                 142\n",
              "9999               9999                 125\n",
              "\n",
              "[10000 rows x 2 columns]"
            ]
          },
          "execution_count": 430,
          "metadata": {},
          "output_type": "execute_result"
        }
      ],
      "source": [
        "counts_df_3"
      ]
    },
    {
      "cell_type": "code",
      "execution_count": null,
      "id": "7bf028bb-1d21-4252-87df-b4a5c48fc18e",
      "metadata": {
        "id": "7bf028bb-1d21-4252-87df-b4a5c48fc18e"
      },
      "outputs": [],
      "source": [
        "#  создаю новый датафрэйм с лекциями\n",
        "df_temp_12 = train_df[train_df['content_type_id']== 1]"
      ]
    },
    {
      "cell_type": "code",
      "execution_count": null,
      "id": "41952305-be3e-4a61-ad38-bc3e793f2eae",
      "metadata": {
        "id": "41952305-be3e-4a61-ad38-bc3e793f2eae"
      },
      "outputs": [],
      "source": [
        "# создаю новый датафрэйм с двумя столбцаим для дальнейшей группировки\n",
        "df_temp_13 = df_temp_12[['user_id','content_type_id']].copy()"
      ]
    },
    {
      "cell_type": "code",
      "execution_count": null,
      "id": "48b0a1d1-4a63-4ce5-9f57-804e34401022",
      "metadata": {
        "id": "48b0a1d1-4a63-4ce5-9f57-804e34401022"
      },
      "outputs": [],
      "source": [
        "#  группирую по пользователям ранее созданный датафрэйм\n",
        "counts_df_4 = df_temp_13.groupby('user_id', as_index=False).sum()"
      ]
    },
    {
      "cell_type": "code",
      "execution_count": null,
      "id": "52f50b8f-b2d7-4f6a-8ab1-b4f9213ba878",
      "metadata": {
        "id": "52f50b8f-b2d7-4f6a-8ab1-b4f9213ba878",
        "outputId": "2cf9d31b-2c48-419c-e514-ba4c276b59f0"
      },
      "outputs": [
        {
          "data": {
            "text/html": [
              "<div>\n",
              "<style scoped>\n",
              "    .dataframe tbody tr th:only-of-type {\n",
              "        vertical-align: middle;\n",
              "    }\n",
              "\n",
              "    .dataframe tbody tr th {\n",
              "        vertical-align: top;\n",
              "    }\n",
              "\n",
              "    .dataframe thead th {\n",
              "        text-align: right;\n",
              "    }\n",
              "</style>\n",
              "<table border=\"1\" class=\"dataframe\">\n",
              "  <thead>\n",
              "    <tr style=\"text-align: right;\">\n",
              "      <th></th>\n",
              "      <th>user_id</th>\n",
              "      <th>content_type_id</th>\n",
              "    </tr>\n",
              "  </thead>\n",
              "  <tbody>\n",
              "    <tr>\n",
              "      <th>0</th>\n",
              "      <td>2746</td>\n",
              "      <td>1</td>\n",
              "    </tr>\n",
              "    <tr>\n",
              "      <th>1</th>\n",
              "      <td>5382</td>\n",
              "      <td>3</td>\n",
              "    </tr>\n",
              "    <tr>\n",
              "      <th>2</th>\n",
              "      <td>8623</td>\n",
              "      <td>3</td>\n",
              "    </tr>\n",
              "    <tr>\n",
              "      <th>3</th>\n",
              "      <td>12741</td>\n",
              "      <td>6</td>\n",
              "    </tr>\n",
              "    <tr>\n",
              "      <th>4</th>\n",
              "      <td>13134</td>\n",
              "      <td>7</td>\n",
              "    </tr>\n",
              "    <tr>\n",
              "      <th>...</th>\n",
              "      <td>...</td>\n",
              "      <td>...</td>\n",
              "    </tr>\n",
              "    <tr>\n",
              "      <th>149601</th>\n",
              "      <td>2147419988</td>\n",
              "      <td>44</td>\n",
              "    </tr>\n",
              "    <tr>\n",
              "      <th>149602</th>\n",
              "      <td>2147469944</td>\n",
              "      <td>3</td>\n",
              "    </tr>\n",
              "    <tr>\n",
              "      <th>149603</th>\n",
              "      <td>2147470770</td>\n",
              "      <td>2</td>\n",
              "    </tr>\n",
              "    <tr>\n",
              "      <th>149604</th>\n",
              "      <td>2147470777</td>\n",
              "      <td>6</td>\n",
              "    </tr>\n",
              "    <tr>\n",
              "      <th>149605</th>\n",
              "      <td>2147482216</td>\n",
              "      <td>5</td>\n",
              "    </tr>\n",
              "  </tbody>\n",
              "</table>\n",
              "<p>149606 rows × 2 columns</p>\n",
              "</div>"
            ],
            "text/plain": [
              "           user_id  content_type_id\n",
              "0             2746                1\n",
              "1             5382                3\n",
              "2             8623                3\n",
              "3            12741                6\n",
              "4            13134                7\n",
              "...            ...              ...\n",
              "149601  2147419988               44\n",
              "149602  2147469944                3\n",
              "149603  2147470770                2\n",
              "149604  2147470777                6\n",
              "149605  2147482216                5\n",
              "\n",
              "[149606 rows x 2 columns]"
            ]
          },
          "execution_count": 454,
          "metadata": {},
          "output_type": "execute_result"
        }
      ],
      "source": [
        "counts_df_4"
      ]
    },
    {
      "cell_type": "code",
      "execution_count": null,
      "id": "4723f9e7-cf4e-4293-8532-4d1ee84c5165",
      "metadata": {
        "id": "4723f9e7-cf4e-4293-8532-4d1ee84c5165"
      },
      "outputs": [],
      "source": [
        "#  создаю новый датафрэйм с ответами на вопросы\n",
        "df_temp_14 = train_df[train_df['answered_correctly']>= 0]"
      ]
    },
    {
      "cell_type": "code",
      "execution_count": null,
      "id": "585f2580-eaca-4d90-af0b-14f5b18082a9",
      "metadata": {
        "id": "585f2580-eaca-4d90-af0b-14f5b18082a9"
      },
      "outputs": [],
      "source": [
        "# создаю новый датафрэйм с двумя столбцаим для дальнейшей группировки\n",
        "df_temp_15 = df_temp_14[['user_id','answered_correctly']].copy()"
      ]
    },
    {
      "cell_type": "code",
      "execution_count": null,
      "id": "931e5d6b-dff6-47fe-add4-f0d0c8cf0862",
      "metadata": {
        "id": "931e5d6b-dff6-47fe-add4-f0d0c8cf0862"
      },
      "outputs": [],
      "source": [
        "#  группирую по пользователям ранее созданный датафрэйм\n",
        "counts_df_5 = df_temp_15.groupby('user_id', as_index=False).sum()"
      ]
    },
    {
      "cell_type": "code",
      "execution_count": null,
      "id": "66211d57-8300-4ff4-aee2-3dded1cc0fd7",
      "metadata": {
        "id": "66211d57-8300-4ff4-aee2-3dded1cc0fd7",
        "outputId": "0dc60d24-6a34-45b9-9576-5ba4c1a39bf4"
      },
      "outputs": [
        {
          "data": {
            "text/html": [
              "<div>\n",
              "<style scoped>\n",
              "    .dataframe tbody tr th:only-of-type {\n",
              "        vertical-align: middle;\n",
              "    }\n",
              "\n",
              "    .dataframe tbody tr th {\n",
              "        vertical-align: top;\n",
              "    }\n",
              "\n",
              "    .dataframe thead th {\n",
              "        text-align: right;\n",
              "    }\n",
              "</style>\n",
              "<table border=\"1\" class=\"dataframe\">\n",
              "  <thead>\n",
              "    <tr style=\"text-align: right;\">\n",
              "      <th></th>\n",
              "      <th>user_id</th>\n",
              "      <th>answered_correctly</th>\n",
              "    </tr>\n",
              "  </thead>\n",
              "  <tbody>\n",
              "    <tr>\n",
              "      <th>0</th>\n",
              "      <td>115</td>\n",
              "      <td>32</td>\n",
              "    </tr>\n",
              "    <tr>\n",
              "      <th>1</th>\n",
              "      <td>124</td>\n",
              "      <td>7</td>\n",
              "    </tr>\n",
              "    <tr>\n",
              "      <th>2</th>\n",
              "      <td>2746</td>\n",
              "      <td>11</td>\n",
              "    </tr>\n",
              "    <tr>\n",
              "      <th>3</th>\n",
              "      <td>5382</td>\n",
              "      <td>84</td>\n",
              "    </tr>\n",
              "    <tr>\n",
              "      <th>4</th>\n",
              "      <td>8623</td>\n",
              "      <td>70</td>\n",
              "    </tr>\n",
              "    <tr>\n",
              "      <th>...</th>\n",
              "      <td>...</td>\n",
              "      <td>...</td>\n",
              "    </tr>\n",
              "    <tr>\n",
              "      <th>393651</th>\n",
              "      <td>2147470770</td>\n",
              "      <td>173</td>\n",
              "    </tr>\n",
              "    <tr>\n",
              "      <th>393652</th>\n",
              "      <td>2147470777</td>\n",
              "      <td>520</td>\n",
              "    </tr>\n",
              "    <tr>\n",
              "      <th>393653</th>\n",
              "      <td>2147481750</td>\n",
              "      <td>38</td>\n",
              "    </tr>\n",
              "    <tr>\n",
              "      <th>393654</th>\n",
              "      <td>2147482216</td>\n",
              "      <td>177</td>\n",
              "    </tr>\n",
              "    <tr>\n",
              "      <th>393655</th>\n",
              "      <td>2147482888</td>\n",
              "      <td>15</td>\n",
              "    </tr>\n",
              "  </tbody>\n",
              "</table>\n",
              "<p>393656 rows × 2 columns</p>\n",
              "</div>"
            ],
            "text/plain": [
              "           user_id  answered_correctly\n",
              "0              115                  32\n",
              "1              124                   7\n",
              "2             2746                  11\n",
              "3             5382                  84\n",
              "4             8623                  70\n",
              "...            ...                 ...\n",
              "393651  2147470770                 173\n",
              "393652  2147470777                 520\n",
              "393653  2147481750                  38\n",
              "393654  2147482216                 177\n",
              "393655  2147482888                  15\n",
              "\n",
              "[393656 rows x 2 columns]"
            ]
          },
          "execution_count": 370,
          "metadata": {},
          "output_type": "execute_result"
        }
      ],
      "source": [
        "counts_df_5"
      ]
    },
    {
      "cell_type": "code",
      "execution_count": null,
      "id": "e71da3c2-b419-4eae-81b3-766c71ee967a",
      "metadata": {
        "id": "e71da3c2-b419-4eae-81b3-766c71ee967a"
      },
      "outputs": [],
      "source": [
        "#  объединяю ранее созданные датафрэймы\n",
        "df_temp_16 = pd.merge(counts_df_4, counts_df_5, on=\"user_id\")"
      ]
    },
    {
      "cell_type": "code",
      "execution_count": null,
      "id": "46ee1f8c-bbc4-4764-b7d5-99b537c35b3f",
      "metadata": {
        "id": "46ee1f8c-bbc4-4764-b7d5-99b537c35b3f",
        "outputId": "2d23e1fa-7aa6-44da-e317-e738a351bc95"
      },
      "outputs": [
        {
          "data": {
            "text/html": [
              "<div>\n",
              "<style scoped>\n",
              "    .dataframe tbody tr th:only-of-type {\n",
              "        vertical-align: middle;\n",
              "    }\n",
              "\n",
              "    .dataframe tbody tr th {\n",
              "        vertical-align: top;\n",
              "    }\n",
              "\n",
              "    .dataframe thead th {\n",
              "        text-align: right;\n",
              "    }\n",
              "</style>\n",
              "<table border=\"1\" class=\"dataframe\">\n",
              "  <thead>\n",
              "    <tr style=\"text-align: right;\">\n",
              "      <th></th>\n",
              "      <th>user_id</th>\n",
              "      <th>content_type_id</th>\n",
              "      <th>answered_correctly</th>\n",
              "    </tr>\n",
              "  </thead>\n",
              "  <tbody>\n",
              "    <tr>\n",
              "      <th>0</th>\n",
              "      <td>2746</td>\n",
              "      <td>1</td>\n",
              "      <td>11</td>\n",
              "    </tr>\n",
              "    <tr>\n",
              "      <th>1</th>\n",
              "      <td>5382</td>\n",
              "      <td>3</td>\n",
              "      <td>84</td>\n",
              "    </tr>\n",
              "    <tr>\n",
              "      <th>2</th>\n",
              "      <td>8623</td>\n",
              "      <td>3</td>\n",
              "      <td>70</td>\n",
              "    </tr>\n",
              "    <tr>\n",
              "      <th>3</th>\n",
              "      <td>12741</td>\n",
              "      <td>6</td>\n",
              "      <td>152</td>\n",
              "    </tr>\n",
              "    <tr>\n",
              "      <th>4</th>\n",
              "      <td>13134</td>\n",
              "      <td>7</td>\n",
              "      <td>878</td>\n",
              "    </tr>\n",
              "    <tr>\n",
              "      <th>...</th>\n",
              "      <td>...</td>\n",
              "      <td>...</td>\n",
              "      <td>...</td>\n",
              "    </tr>\n",
              "    <tr>\n",
              "      <th>149601</th>\n",
              "      <td>2147419988</td>\n",
              "      <td>44</td>\n",
              "      <td>364</td>\n",
              "    </tr>\n",
              "    <tr>\n",
              "      <th>149602</th>\n",
              "      <td>2147469944</td>\n",
              "      <td>3</td>\n",
              "      <td>200</td>\n",
              "    </tr>\n",
              "    <tr>\n",
              "      <th>149603</th>\n",
              "      <td>2147470770</td>\n",
              "      <td>2</td>\n",
              "      <td>173</td>\n",
              "    </tr>\n",
              "    <tr>\n",
              "      <th>149604</th>\n",
              "      <td>2147470777</td>\n",
              "      <td>6</td>\n",
              "      <td>520</td>\n",
              "    </tr>\n",
              "    <tr>\n",
              "      <th>149605</th>\n",
              "      <td>2147482216</td>\n",
              "      <td>5</td>\n",
              "      <td>177</td>\n",
              "    </tr>\n",
              "  </tbody>\n",
              "</table>\n",
              "<p>149606 rows × 3 columns</p>\n",
              "</div>"
            ],
            "text/plain": [
              "           user_id  content_type_id  answered_correctly\n",
              "0             2746                1                  11\n",
              "1             5382                3                  84\n",
              "2             8623                3                  70\n",
              "3            12741                6                 152\n",
              "4            13134                7                 878\n",
              "...            ...              ...                 ...\n",
              "149601  2147419988               44                 364\n",
              "149602  2147469944                3                 200\n",
              "149603  2147470770                2                 173\n",
              "149604  2147470777                6                 520\n",
              "149605  2147482216                5                 177\n",
              "\n",
              "[149606 rows x 3 columns]"
            ]
          },
          "execution_count": 487,
          "metadata": {},
          "output_type": "execute_result"
        }
      ],
      "source": [
        "df_temp_16"
      ]
    },
    {
      "cell_type": "code",
      "execution_count": null,
      "id": "5b61a48e-47fe-4cba-8681-1ed18fe5ac3a",
      "metadata": {
        "id": "5b61a48e-47fe-4cba-8681-1ed18fe5ac3a",
        "outputId": "f66c3bd3-0480-454e-c013-f93f4b6a544f"
      },
      "outputs": [
        {
          "data": {
            "text/html": [
              "<div>\n",
              "<style scoped>\n",
              "    .dataframe tbody tr th:only-of-type {\n",
              "        vertical-align: middle;\n",
              "    }\n",
              "\n",
              "    .dataframe tbody tr th {\n",
              "        vertical-align: top;\n",
              "    }\n",
              "\n",
              "    .dataframe thead th {\n",
              "        text-align: right;\n",
              "    }\n",
              "</style>\n",
              "<table border=\"1\" class=\"dataframe\">\n",
              "  <thead>\n",
              "    <tr style=\"text-align: right;\">\n",
              "      <th></th>\n",
              "      <th>user_id</th>\n",
              "      <th>content_type_id</th>\n",
              "    </tr>\n",
              "  </thead>\n",
              "  <tbody>\n",
              "    <tr>\n",
              "      <th>25855</th>\n",
              "      <td>372519499</td>\n",
              "      <td>397</td>\n",
              "    </tr>\n",
              "  </tbody>\n",
              "</table>\n",
              "</div>"
            ],
            "text/plain": [
              "         user_id  content_type_id\n",
              "25855  372519499              397"
            ]
          },
          "execution_count": 87,
          "metadata": {},
          "output_type": "execute_result"
        }
      ],
      "source": [
        "#  нахожу пользователя с самым большим числом просмотренных лекций\n",
        "counts_df_4[counts_df_4['content_type_id'] == 397]"
      ]
    },
    {
      "cell_type": "code",
      "execution_count": null,
      "id": "ed1b1812-9317-442e-a71e-88a0a541388b",
      "metadata": {
        "id": "ed1b1812-9317-442e-a71e-88a0a541388b",
        "outputId": "1049a7dd-1bfb-484f-b44a-b081ba8dce15"
      },
      "outputs": [
        {
          "data": {
            "text/html": [
              "<div>\n",
              "<style scoped>\n",
              "    .dataframe tbody tr th:only-of-type {\n",
              "        vertical-align: middle;\n",
              "    }\n",
              "\n",
              "    .dataframe tbody tr th {\n",
              "        vertical-align: top;\n",
              "    }\n",
              "\n",
              "    .dataframe thead th {\n",
              "        text-align: right;\n",
              "    }\n",
              "</style>\n",
              "<table border=\"1\" class=\"dataframe\">\n",
              "  <thead>\n",
              "    <tr style=\"text-align: right;\">\n",
              "      <th></th>\n",
              "      <th>user_id</th>\n",
              "      <th>answered_correctly</th>\n",
              "    </tr>\n",
              "  </thead>\n",
              "  <tbody>\n",
              "    <tr>\n",
              "      <th>392133</th>\n",
              "      <td>2139561972</td>\n",
              "      <td>14300</td>\n",
              "    </tr>\n",
              "  </tbody>\n",
              "</table>\n",
              "</div>"
            ],
            "text/plain": [
              "           user_id  answered_correctly\n",
              "392133  2139561972               14300"
            ]
          },
          "execution_count": 489,
          "metadata": {},
          "output_type": "execute_result"
        }
      ],
      "source": [
        "#  нахожу пользователя с самым большим числом верных ответов\n",
        "counts_df_5[counts_df_5['answered_correctly'] == 14300]"
      ]
    },
    {
      "cell_type": "code",
      "execution_count": null,
      "id": "c8997abd-ad8e-486e-9f41-b0ddb4c58c2f",
      "metadata": {
        "id": "c8997abd-ad8e-486e-9f41-b0ddb4c58c2f",
        "outputId": "1da08416-ee3b-4c01-a72b-5afaf3ce6c3a"
      },
      "outputs": [
        {
          "data": {
            "text/html": [
              "<div>\n",
              "<style scoped>\n",
              "    .dataframe tbody tr th:only-of-type {\n",
              "        vertical-align: middle;\n",
              "    }\n",
              "\n",
              "    .dataframe tbody tr th {\n",
              "        vertical-align: top;\n",
              "    }\n",
              "\n",
              "    .dataframe thead th {\n",
              "        text-align: right;\n",
              "    }\n",
              "</style>\n",
              "<table border=\"1\" class=\"dataframe\">\n",
              "  <thead>\n",
              "    <tr style=\"text-align: right;\">\n",
              "      <th></th>\n",
              "      <th>user_id</th>\n",
              "      <th>content_type_id</th>\n",
              "      <th>answered_correctly</th>\n",
              "    </tr>\n",
              "  </thead>\n",
              "  <tbody>\n",
              "    <tr>\n",
              "      <th>149027</th>\n",
              "      <td>2139561972</td>\n",
              "      <td>71</td>\n",
              "      <td>14300</td>\n",
              "    </tr>\n",
              "  </tbody>\n",
              "</table>\n",
              "</div>"
            ],
            "text/plain": [
              "           user_id  content_type_id  answered_correctly\n",
              "149027  2139561972               71               14300"
            ]
          },
          "execution_count": 491,
          "metadata": {},
          "output_type": "execute_result"
        }
      ],
      "source": [
        "#  нахожу количество просмотренных лекций у пользователя с самым большим числом верных ответов\n",
        "df_temp_16[df_temp_16['user_id'] == 2139561972]"
      ]
    },
    {
      "cell_type": "code",
      "execution_count": null,
      "id": "61d5647f-1130-4128-9a80-fed0683090e7",
      "metadata": {
        "id": "61d5647f-1130-4128-9a80-fed0683090e7",
        "outputId": "b5e8ffea-4027-4b73-d1bc-80ee7d7d305f"
      },
      "outputs": [
        {
          "data": {
            "text/html": [
              "<div>\n",
              "<style scoped>\n",
              "    .dataframe tbody tr th:only-of-type {\n",
              "        vertical-align: middle;\n",
              "    }\n",
              "\n",
              "    .dataframe tbody tr th {\n",
              "        vertical-align: top;\n",
              "    }\n",
              "\n",
              "    .dataframe thead th {\n",
              "        text-align: right;\n",
              "    }\n",
              "</style>\n",
              "<table border=\"1\" class=\"dataframe\">\n",
              "  <thead>\n",
              "    <tr style=\"text-align: right;\">\n",
              "      <th></th>\n",
              "      <th>user_id</th>\n",
              "      <th>content_type_id</th>\n",
              "      <th>answered_correctly</th>\n",
              "    </tr>\n",
              "  </thead>\n",
              "  <tbody>\n",
              "    <tr>\n",
              "      <th>25855</th>\n",
              "      <td>372519499</td>\n",
              "      <td>397</td>\n",
              "      <td>5571</td>\n",
              "    </tr>\n",
              "  </tbody>\n",
              "</table>\n",
              "</div>"
            ],
            "text/plain": [
              "         user_id  content_type_id  answered_correctly\n",
              "25855  372519499              397                5571"
            ]
          },
          "execution_count": 493,
          "metadata": {},
          "output_type": "execute_result"
        }
      ],
      "source": [
        "#  нахожу количество верных ответов у пользователя с самым большим числом просмотренных лекций\n",
        "df_temp_16[df_temp_16['user_id'] == 372519499]"
      ]
    },
    {
      "cell_type": "code",
      "execution_count": null,
      "id": "cd99b10c-3ae3-4d13-ae1f-f8fedaba8220",
      "metadata": {
        "id": "cd99b10c-3ae3-4d13-ae1f-f8fedaba8220"
      },
      "outputs": [],
      "source": [
        "# создаю новый датафрэйм с двумя столбцаим для дальнейшей группировки\n",
        "df_temp_17 = df_temp_14[['task_container_id','answered_correctly']].copy()"
      ]
    },
    {
      "cell_type": "code",
      "execution_count": null,
      "id": "501184d7-a8b3-4faf-9c87-b78acad41576",
      "metadata": {
        "id": "501184d7-a8b3-4faf-9c87-b78acad41576"
      },
      "outputs": [],
      "source": [
        "#  группирую по пакетам ранее созданный датафрэйм\n",
        "counts_df_6 = df_temp_17.groupby('task_container_id', as_index=False).sum()"
      ]
    },
    {
      "cell_type": "code",
      "execution_count": null,
      "id": "f3b001b6-fe67-431f-b556-6420000c908d",
      "metadata": {
        "id": "f3b001b6-fe67-431f-b556-6420000c908d",
        "outputId": "f04dead9-46fa-4e97-f386-1dd5d820dfe4"
      },
      "outputs": [
        {
          "data": {
            "text/html": [
              "<div>\n",
              "<style scoped>\n",
              "    .dataframe tbody tr th:only-of-type {\n",
              "        vertical-align: middle;\n",
              "    }\n",
              "\n",
              "    .dataframe tbody tr th {\n",
              "        vertical-align: top;\n",
              "    }\n",
              "\n",
              "    .dataframe thead th {\n",
              "        text-align: right;\n",
              "    }\n",
              "</style>\n",
              "<table border=\"1\" class=\"dataframe\">\n",
              "  <thead>\n",
              "    <tr style=\"text-align: right;\">\n",
              "      <th></th>\n",
              "      <th>task_container_id</th>\n",
              "      <th>answered_correctly</th>\n",
              "    </tr>\n",
              "  </thead>\n",
              "  <tbody>\n",
              "    <tr>\n",
              "      <th>0</th>\n",
              "      <td>0</td>\n",
              "      <td>269233</td>\n",
              "    </tr>\n",
              "    <tr>\n",
              "      <th>1</th>\n",
              "      <td>1</td>\n",
              "      <td>208704</td>\n",
              "    </tr>\n",
              "    <tr>\n",
              "      <th>2</th>\n",
              "      <td>2</td>\n",
              "      <td>172342</td>\n",
              "    </tr>\n",
              "    <tr>\n",
              "      <th>3</th>\n",
              "      <td>3</td>\n",
              "      <td>214721</td>\n",
              "    </tr>\n",
              "    <tr>\n",
              "      <th>4</th>\n",
              "      <td>4</td>\n",
              "      <td>330079</td>\n",
              "    </tr>\n",
              "    <tr>\n",
              "      <th>...</th>\n",
              "      <td>...</td>\n",
              "      <td>...</td>\n",
              "    </tr>\n",
              "    <tr>\n",
              "      <th>9995</th>\n",
              "      <td>9995</td>\n",
              "      <td>145</td>\n",
              "    </tr>\n",
              "    <tr>\n",
              "      <th>9996</th>\n",
              "      <td>9996</td>\n",
              "      <td>140</td>\n",
              "    </tr>\n",
              "    <tr>\n",
              "      <th>9997</th>\n",
              "      <td>9997</td>\n",
              "      <td>140</td>\n",
              "    </tr>\n",
              "    <tr>\n",
              "      <th>9998</th>\n",
              "      <td>9998</td>\n",
              "      <td>144</td>\n",
              "    </tr>\n",
              "    <tr>\n",
              "      <th>9999</th>\n",
              "      <td>9999</td>\n",
              "      <td>127</td>\n",
              "    </tr>\n",
              "  </tbody>\n",
              "</table>\n",
              "<p>10000 rows × 2 columns</p>\n",
              "</div>"
            ],
            "text/plain": [
              "      task_container_id  answered_correctly\n",
              "0                     0              269233\n",
              "1                     1              208704\n",
              "2                     2              172342\n",
              "3                     3              214721\n",
              "4                     4              330079\n",
              "...                 ...                 ...\n",
              "9995               9995                 145\n",
              "9996               9996                 140\n",
              "9997               9997                 140\n",
              "9998               9998                 144\n",
              "9999               9999                 127\n",
              "\n",
              "[10000 rows x 2 columns]"
            ]
          },
          "execution_count": 93,
          "metadata": {},
          "output_type": "execute_result"
        }
      ],
      "source": [
        "counts_df_6\n"
      ]
    },
    {
      "cell_type": "code",
      "execution_count": null,
      "id": "15c9fd86-9cc4-4ac8-8ef5-079e12172917",
      "metadata": {
        "id": "15c9fd86-9cc4-4ac8-8ef5-079e12172917"
      },
      "outputs": [],
      "source": [
        "# создаю новый датафрэйм с двумя столбцаим для дальнейшей группировки\n",
        "df_temp_18 = df_temp_07[['user_id','task_container_id']].copy()"
      ]
    },
    {
      "cell_type": "code",
      "execution_count": null,
      "id": "baeabb40-bb1b-4609-8ca3-e598fa879f50",
      "metadata": {
        "id": "baeabb40-bb1b-4609-8ca3-e598fa879f50"
      },
      "outputs": [],
      "source": [
        "#  группирую по пользователям ранее созданный датафрэйм\n",
        "counts_df_7 = df_temp_18.groupby('user_id', as_index=False).count()"
      ]
    },
    {
      "cell_type": "code",
      "execution_count": null,
      "id": "b590fe05-0394-48ce-9e54-f0d39befe018",
      "metadata": {
        "id": "b590fe05-0394-48ce-9e54-f0d39befe018"
      },
      "outputs": [],
      "source": [
        "# создаю новый датафрэйм с тремя столбцаим для дальнейшей группировки\n",
        "df_temp_19 = train_df[['user_id','content_type_id','answered_correctly']].copy()"
      ]
    },
    {
      "cell_type": "code",
      "execution_count": null,
      "id": "3b9fbb6b-ab52-4de3-b997-3826cfce870b",
      "metadata": {
        "id": "3b9fbb6b-ab52-4de3-b997-3826cfce870b"
      },
      "outputs": [],
      "source": [
        "# создаю новый датафрэйм с пользователями, которые смотрели лекции\n",
        "df_temp_20 =df_temp_19[df_temp_19['answered_correctly']<0]"
      ]
    },
    {
      "cell_type": "code",
      "execution_count": null,
      "id": "979064ee-79b9-4e3f-a41d-350c5fa1e751",
      "metadata": {
        "id": "979064ee-79b9-4e3f-a41d-350c5fa1e751"
      },
      "outputs": [],
      "source": [
        "# группирую по пользователям датафрэйм с пользователями, которые смотрели лекции\n",
        "df_temp_20=df_temp_20.groupby('user_id', as_index=False).sum()"
      ]
    },
    {
      "cell_type": "code",
      "execution_count": null,
      "id": "3f3d3d5f-5055-4ced-8228-a85018d5cb41",
      "metadata": {
        "id": "3f3d3d5f-5055-4ced-8228-a85018d5cb41"
      },
      "outputs": [],
      "source": [
        "# оставляю столбец с id пользователей, которые смотрели лекции\n",
        "df_temp_20=df_temp_20[['user_id']].copy()"
      ]
    },
    {
      "cell_type": "code",
      "execution_count": null,
      "id": "1b202237-4439-4a0d-a802-043798d85368",
      "metadata": {
        "id": "1b202237-4439-4a0d-a802-043798d85368",
        "outputId": "eae6a5c4-bf21-48b7-a690-e251e2db2687"
      },
      "outputs": [
        {
          "data": {
            "text/html": [
              "<div>\n",
              "<style scoped>\n",
              "    .dataframe tbody tr th:only-of-type {\n",
              "        vertical-align: middle;\n",
              "    }\n",
              "\n",
              "    .dataframe tbody tr th {\n",
              "        vertical-align: top;\n",
              "    }\n",
              "\n",
              "    .dataframe thead th {\n",
              "        text-align: right;\n",
              "    }\n",
              "</style>\n",
              "<table border=\"1\" class=\"dataframe\">\n",
              "  <thead>\n",
              "    <tr style=\"text-align: right;\">\n",
              "      <th></th>\n",
              "      <th>user_id</th>\n",
              "    </tr>\n",
              "  </thead>\n",
              "  <tbody>\n",
              "    <tr>\n",
              "      <th>0</th>\n",
              "      <td>2746</td>\n",
              "    </tr>\n",
              "    <tr>\n",
              "      <th>1</th>\n",
              "      <td>5382</td>\n",
              "    </tr>\n",
              "    <tr>\n",
              "      <th>2</th>\n",
              "      <td>8623</td>\n",
              "    </tr>\n",
              "    <tr>\n",
              "      <th>3</th>\n",
              "      <td>12741</td>\n",
              "    </tr>\n",
              "    <tr>\n",
              "      <th>4</th>\n",
              "      <td>13134</td>\n",
              "    </tr>\n",
              "    <tr>\n",
              "      <th>...</th>\n",
              "      <td>...</td>\n",
              "    </tr>\n",
              "    <tr>\n",
              "      <th>149601</th>\n",
              "      <td>2147419988</td>\n",
              "    </tr>\n",
              "    <tr>\n",
              "      <th>149602</th>\n",
              "      <td>2147469944</td>\n",
              "    </tr>\n",
              "    <tr>\n",
              "      <th>149603</th>\n",
              "      <td>2147470770</td>\n",
              "    </tr>\n",
              "    <tr>\n",
              "      <th>149604</th>\n",
              "      <td>2147470777</td>\n",
              "    </tr>\n",
              "    <tr>\n",
              "      <th>149605</th>\n",
              "      <td>2147482216</td>\n",
              "    </tr>\n",
              "  </tbody>\n",
              "</table>\n",
              "<p>149606 rows × 1 columns</p>\n",
              "</div>"
            ],
            "text/plain": [
              "           user_id\n",
              "0             2746\n",
              "1             5382\n",
              "2             8623\n",
              "3            12741\n",
              "4            13134\n",
              "...            ...\n",
              "149601  2147419988\n",
              "149602  2147469944\n",
              "149603  2147470770\n",
              "149604  2147470777\n",
              "149605  2147482216\n",
              "\n",
              "[149606 rows x 1 columns]"
            ]
          },
          "execution_count": 563,
          "metadata": {},
          "output_type": "execute_result"
        }
      ],
      "source": [
        "df_temp_20"
      ]
    },
    {
      "cell_type": "code",
      "execution_count": null,
      "id": "08360758-644f-4912-8ba7-d42819778346",
      "metadata": {
        "id": "08360758-644f-4912-8ba7-d42819778346"
      },
      "outputs": [],
      "source": [
        "# создаю новый датафрэйм с пользователями, которые отвечали на вопросы\n",
        "df_temp_21 =df_temp_19[df_temp_19['content_type_id']==0]"
      ]
    },
    {
      "cell_type": "code",
      "execution_count": null,
      "id": "98341c9c-a7dd-46a2-a47b-b396ff1f1231",
      "metadata": {
        "id": "98341c9c-a7dd-46a2-a47b-b396ff1f1231"
      },
      "outputs": [],
      "source": [
        "# группирую по пользователям датафрэйм с пользователями, которые отвечали на вопросы\n",
        "df_temp_21=df_temp_21.groupby('user_id', as_index=False).sum()"
      ]
    },
    {
      "cell_type": "code",
      "execution_count": null,
      "id": "abf74cf1-64c8-47c8-98d6-6209f3cc7c8d",
      "metadata": {
        "id": "abf74cf1-64c8-47c8-98d6-6209f3cc7c8d"
      },
      "outputs": [],
      "source": [
        "# оставляю столбец с id пользователей, которые смотрели лекции\n",
        "df_temp_21=df_temp_21[['user_id']].copy()"
      ]
    },
    {
      "cell_type": "code",
      "execution_count": null,
      "id": "f270402c-c830-4911-b1ee-1e82d7ca26f5",
      "metadata": {
        "id": "f270402c-c830-4911-b1ee-1e82d7ca26f5",
        "outputId": "2305253a-15aa-4fc2-9e33-2f2421a1925a"
      },
      "outputs": [
        {
          "data": {
            "text/html": [
              "<div>\n",
              "<style scoped>\n",
              "    .dataframe tbody tr th:only-of-type {\n",
              "        vertical-align: middle;\n",
              "    }\n",
              "\n",
              "    .dataframe tbody tr th {\n",
              "        vertical-align: top;\n",
              "    }\n",
              "\n",
              "    .dataframe thead th {\n",
              "        text-align: right;\n",
              "    }\n",
              "</style>\n",
              "<table border=\"1\" class=\"dataframe\">\n",
              "  <thead>\n",
              "    <tr style=\"text-align: right;\">\n",
              "      <th></th>\n",
              "      <th>user_id</th>\n",
              "    </tr>\n",
              "  </thead>\n",
              "  <tbody>\n",
              "    <tr>\n",
              "      <th>0</th>\n",
              "      <td>115</td>\n",
              "    </tr>\n",
              "    <tr>\n",
              "      <th>1</th>\n",
              "      <td>124</td>\n",
              "    </tr>\n",
              "    <tr>\n",
              "      <th>2</th>\n",
              "      <td>2746</td>\n",
              "    </tr>\n",
              "    <tr>\n",
              "      <th>3</th>\n",
              "      <td>5382</td>\n",
              "    </tr>\n",
              "    <tr>\n",
              "      <th>4</th>\n",
              "      <td>8623</td>\n",
              "    </tr>\n",
              "    <tr>\n",
              "      <th>...</th>\n",
              "      <td>...</td>\n",
              "    </tr>\n",
              "    <tr>\n",
              "      <th>393651</th>\n",
              "      <td>2147470770</td>\n",
              "    </tr>\n",
              "    <tr>\n",
              "      <th>393652</th>\n",
              "      <td>2147470777</td>\n",
              "    </tr>\n",
              "    <tr>\n",
              "      <th>393653</th>\n",
              "      <td>2147481750</td>\n",
              "    </tr>\n",
              "    <tr>\n",
              "      <th>393654</th>\n",
              "      <td>2147482216</td>\n",
              "    </tr>\n",
              "    <tr>\n",
              "      <th>393655</th>\n",
              "      <td>2147482888</td>\n",
              "    </tr>\n",
              "  </tbody>\n",
              "</table>\n",
              "<p>393656 rows × 1 columns</p>\n",
              "</div>"
            ],
            "text/plain": [
              "           user_id\n",
              "0              115\n",
              "1              124\n",
              "2             2746\n",
              "3             5382\n",
              "4             8623\n",
              "...            ...\n",
              "393651  2147470770\n",
              "393652  2147470777\n",
              "393653  2147481750\n",
              "393654  2147482216\n",
              "393655  2147482888\n",
              "\n",
              "[393656 rows x 1 columns]"
            ]
          },
          "execution_count": 541,
          "metadata": {},
          "output_type": "execute_result"
        }
      ],
      "source": [
        "df_temp_21"
      ]
    },
    {
      "cell_type": "code",
      "execution_count": null,
      "id": "e42a0cfe-6600-4504-9c92-04a74de81100",
      "metadata": {
        "id": "e42a0cfe-6600-4504-9c92-04a74de81100"
      },
      "outputs": [],
      "source": [
        "# получаю столбец с пользователями, которые отвечали на вопросы, но не смотрели лекции\n",
        "df_temp_22 = df_temp_21.drop(df_temp_20['user_id'].index)"
      ]
    },
    {
      "cell_type": "code",
      "execution_count": null,
      "id": "e2f36a11-3345-47ab-b103-47579327259d",
      "metadata": {
        "id": "e2f36a11-3345-47ab-b103-47579327259d",
        "outputId": "4aab2666-1663-4f3e-88f3-27e4d91c1836"
      },
      "outputs": [
        {
          "data": {
            "text/html": [
              "<div>\n",
              "<style scoped>\n",
              "    .dataframe tbody tr th:only-of-type {\n",
              "        vertical-align: middle;\n",
              "    }\n",
              "\n",
              "    .dataframe tbody tr th {\n",
              "        vertical-align: top;\n",
              "    }\n",
              "\n",
              "    .dataframe thead th {\n",
              "        text-align: right;\n",
              "    }\n",
              "</style>\n",
              "<table border=\"1\" class=\"dataframe\">\n",
              "  <thead>\n",
              "    <tr style=\"text-align: right;\">\n",
              "      <th></th>\n",
              "      <th>user_id</th>\n",
              "    </tr>\n",
              "  </thead>\n",
              "  <tbody>\n",
              "    <tr>\n",
              "      <th>149606</th>\n",
              "      <td>820792714</td>\n",
              "    </tr>\n",
              "    <tr>\n",
              "      <th>149607</th>\n",
              "      <td>820799921</td>\n",
              "    </tr>\n",
              "    <tr>\n",
              "      <th>149608</th>\n",
              "      <td>820810719</td>\n",
              "    </tr>\n",
              "    <tr>\n",
              "      <th>149609</th>\n",
              "      <td>820811828</td>\n",
              "    </tr>\n",
              "    <tr>\n",
              "      <th>149610</th>\n",
              "      <td>820820194</td>\n",
              "    </tr>\n",
              "    <tr>\n",
              "      <th>...</th>\n",
              "      <td>...</td>\n",
              "    </tr>\n",
              "    <tr>\n",
              "      <th>393651</th>\n",
              "      <td>2147470770</td>\n",
              "    </tr>\n",
              "    <tr>\n",
              "      <th>393652</th>\n",
              "      <td>2147470777</td>\n",
              "    </tr>\n",
              "    <tr>\n",
              "      <th>393653</th>\n",
              "      <td>2147481750</td>\n",
              "    </tr>\n",
              "    <tr>\n",
              "      <th>393654</th>\n",
              "      <td>2147482216</td>\n",
              "    </tr>\n",
              "    <tr>\n",
              "      <th>393655</th>\n",
              "      <td>2147482888</td>\n",
              "    </tr>\n",
              "  </tbody>\n",
              "</table>\n",
              "<p>244050 rows × 1 columns</p>\n",
              "</div>"
            ],
            "text/plain": [
              "           user_id\n",
              "149606   820792714\n",
              "149607   820799921\n",
              "149608   820810719\n",
              "149609   820811828\n",
              "149610   820820194\n",
              "...            ...\n",
              "393651  2147470770\n",
              "393652  2147470777\n",
              "393653  2147481750\n",
              "393654  2147482216\n",
              "393655  2147482888\n",
              "\n",
              "[244050 rows x 1 columns]"
            ]
          },
          "execution_count": 571,
          "metadata": {},
          "output_type": "execute_result"
        }
      ],
      "source": [
        "df_temp_22"
      ]
    },
    {
      "cell_type": "code",
      "execution_count": null,
      "id": "cc5d604f-cc8d-4945-ab94-c54fc209c75e",
      "metadata": {
        "id": "cc5d604f-cc8d-4945-ab94-c54fc209c75e"
      },
      "outputs": [],
      "source": [
        "# создаю новый датафрэйм с пользователями, которые отвечали на вопросы\n",
        "df_temp_23 =df_temp_19[df_temp_19['answered_correctly']!=-1]"
      ]
    },
    {
      "cell_type": "code",
      "execution_count": null,
      "id": "5243e467-9b4d-4f7a-aed9-90d6cb744bfc",
      "metadata": {
        "id": "5243e467-9b4d-4f7a-aed9-90d6cb744bfc"
      },
      "outputs": [],
      "source": [
        "# группирую по пользователям датафрэйм с пользователями, которые отвечали на вопросы\n",
        "df_temp_23=df_temp_23.groupby('user_id', as_index=False).sum()"
      ]
    },
    {
      "cell_type": "code",
      "execution_count": null,
      "id": "fd1118de-37d1-4a30-bd15-ba0cc3e84863",
      "metadata": {
        "id": "fd1118de-37d1-4a30-bd15-ba0cc3e84863"
      },
      "outputs": [],
      "source": [
        "# создаю новый датафрэйм с пользователями, которые отвечали на вопросы, но не смотрели лекции\n",
        "df_temp_23 = pd.merge(df_temp_23, df_temp_22, on=\"user_id\")"
      ]
    },
    {
      "cell_type": "code",
      "execution_count": null,
      "id": "9f0a10f2-e00d-4cd4-938d-4d57d4d984dc",
      "metadata": {
        "id": "9f0a10f2-e00d-4cd4-938d-4d57d4d984dc",
        "outputId": "a699b6af-8822-4ead-e076-a590b823119e"
      },
      "outputs": [
        {
          "data": {
            "text/html": [
              "<div>\n",
              "<style scoped>\n",
              "    .dataframe tbody tr th:only-of-type {\n",
              "        vertical-align: middle;\n",
              "    }\n",
              "\n",
              "    .dataframe tbody tr th {\n",
              "        vertical-align: top;\n",
              "    }\n",
              "\n",
              "    .dataframe thead th {\n",
              "        text-align: right;\n",
              "    }\n",
              "</style>\n",
              "<table border=\"1\" class=\"dataframe\">\n",
              "  <thead>\n",
              "    <tr style=\"text-align: right;\">\n",
              "      <th></th>\n",
              "      <th>user_id</th>\n",
              "      <th>content_type_id</th>\n",
              "      <th>answered_correctly</th>\n",
              "    </tr>\n",
              "  </thead>\n",
              "  <tbody>\n",
              "    <tr>\n",
              "      <th>count</th>\n",
              "      <td>2.440500e+05</td>\n",
              "      <td>244050.0</td>\n",
              "      <td>244050.000000</td>\n",
              "    </tr>\n",
              "    <tr>\n",
              "      <th>mean</th>\n",
              "      <td>1.484761e+09</td>\n",
              "      <td>0.0</td>\n",
              "      <td>165.551993</td>\n",
              "    </tr>\n",
              "    <tr>\n",
              "      <th>std</th>\n",
              "      <td>3.834374e+08</td>\n",
              "      <td>0.0</td>\n",
              "      <td>518.663649</td>\n",
              "    </tr>\n",
              "    <tr>\n",
              "      <th>min</th>\n",
              "      <td>8.207927e+08</td>\n",
              "      <td>0.0</td>\n",
              "      <td>0.000000</td>\n",
              "    </tr>\n",
              "    <tr>\n",
              "      <th>25%</th>\n",
              "      <td>1.152465e+09</td>\n",
              "      <td>0.0</td>\n",
              "      <td>11.000000</td>\n",
              "    </tr>\n",
              "    <tr>\n",
              "      <th>50%</th>\n",
              "      <td>1.485489e+09</td>\n",
              "      <td>0.0</td>\n",
              "      <td>23.000000</td>\n",
              "    </tr>\n",
              "    <tr>\n",
              "      <th>75%</th>\n",
              "      <td>1.817400e+09</td>\n",
              "      <td>0.0</td>\n",
              "      <td>95.000000</td>\n",
              "    </tr>\n",
              "    <tr>\n",
              "      <th>max</th>\n",
              "      <td>2.147483e+09</td>\n",
              "      <td>0.0</td>\n",
              "      <td>14300.000000</td>\n",
              "    </tr>\n",
              "  </tbody>\n",
              "</table>\n",
              "</div>"
            ],
            "text/plain": [
              "            user_id  content_type_id  answered_correctly\n",
              "count  2.440500e+05         244050.0       244050.000000\n",
              "mean   1.484761e+09              0.0          165.551993\n",
              "std    3.834374e+08              0.0          518.663649\n",
              "min    8.207927e+08              0.0            0.000000\n",
              "25%    1.152465e+09              0.0           11.000000\n",
              "50%    1.485489e+09              0.0           23.000000\n",
              "75%    1.817400e+09              0.0           95.000000\n",
              "max    2.147483e+09              0.0        14300.000000"
            ]
          },
          "execution_count": 615,
          "metadata": {},
          "output_type": "execute_result"
        }
      ],
      "source": [
        "# получаю статистические данные по датафрэйму с пользователями, которые отвечали на вопросы, но не смотрели лекции\n",
        "df_temp_23.describe()"
      ]
    },
    {
      "cell_type": "code",
      "execution_count": null,
      "id": "72d50f00-1a2e-46c9-b7de-40aac2adf86b",
      "metadata": {
        "id": "72d50f00-1a2e-46c9-b7de-40aac2adf86b"
      },
      "outputs": [],
      "source": [
        "# создаю новый датафрэйм с пользователями, которые отвечали на вопросы\n",
        "df_temp_24 = df_temp_19[df_temp_19['answered_correctly']!=-1]"
      ]
    },
    {
      "cell_type": "code",
      "execution_count": null,
      "id": "6c56d424-9ca3-42e4-b642-539486578478",
      "metadata": {
        "id": "6c56d424-9ca3-42e4-b642-539486578478"
      },
      "outputs": [],
      "source": [
        "# группирую по пользователям датафрэйм с пользователями, которые отвечали на вопросы\n",
        "df_temp_24=df_temp_24.groupby('user_id', as_index=False).sum()"
      ]
    },
    {
      "cell_type": "code",
      "execution_count": null,
      "id": "dc4e31b7-77b8-4fd4-94c3-baf5e36f1dde",
      "metadata": {
        "id": "dc4e31b7-77b8-4fd4-94c3-baf5e36f1dde"
      },
      "outputs": [],
      "source": [
        "# создаю новый датафрэйм с пользователями, которые отвечали на вопросы и смотрели лекции\n",
        "df_temp_24 = pd.merge(df_temp_20, df_temp_24, on=\"user_id\")"
      ]
    },
    {
      "cell_type": "code",
      "execution_count": null,
      "id": "1a0c608b-ee89-4049-ad3f-d37ecca53634",
      "metadata": {
        "id": "1a0c608b-ee89-4049-ad3f-d37ecca53634",
        "outputId": "1f98dc41-08a8-440f-b6bf-95bd4fd3bab4"
      },
      "outputs": [
        {
          "data": {
            "text/html": [
              "<div>\n",
              "<style scoped>\n",
              "    .dataframe tbody tr th:only-of-type {\n",
              "        vertical-align: middle;\n",
              "    }\n",
              "\n",
              "    .dataframe tbody tr th {\n",
              "        vertical-align: top;\n",
              "    }\n",
              "\n",
              "    .dataframe thead th {\n",
              "        text-align: right;\n",
              "    }\n",
              "</style>\n",
              "<table border=\"1\" class=\"dataframe\">\n",
              "  <thead>\n",
              "    <tr style=\"text-align: right;\">\n",
              "      <th></th>\n",
              "      <th>user_id</th>\n",
              "      <th>content_type_id</th>\n",
              "      <th>answered_correctly</th>\n",
              "    </tr>\n",
              "  </thead>\n",
              "  <tbody>\n",
              "    <tr>\n",
              "      <th>count</th>\n",
              "      <td>1.496060e+05</td>\n",
              "      <td>149606.0</td>\n",
              "      <td>149606.000000</td>\n",
              "    </tr>\n",
              "    <tr>\n",
              "      <th>mean</th>\n",
              "      <td>1.076082e+09</td>\n",
              "      <td>0.0</td>\n",
              "      <td>388.078232</td>\n",
              "    </tr>\n",
              "    <tr>\n",
              "      <th>std</th>\n",
              "      <td>6.203074e+08</td>\n",
              "      <td>0.0</td>\n",
              "      <td>781.313166</td>\n",
              "    </tr>\n",
              "    <tr>\n",
              "      <th>min</th>\n",
              "      <td>2.746000e+03</td>\n",
              "      <td>0.0</td>\n",
              "      <td>1.000000</td>\n",
              "    </tr>\n",
              "    <tr>\n",
              "      <th>25%</th>\n",
              "      <td>5.387142e+08</td>\n",
              "      <td>0.0</td>\n",
              "      <td>51.000000</td>\n",
              "    </tr>\n",
              "    <tr>\n",
              "      <th>50%</th>\n",
              "      <td>1.076346e+09</td>\n",
              "      <td>0.0</td>\n",
              "      <td>134.000000</td>\n",
              "    </tr>\n",
              "    <tr>\n",
              "      <th>75%</th>\n",
              "      <td>1.613497e+09</td>\n",
              "      <td>0.0</td>\n",
              "      <td>377.000000</td>\n",
              "    </tr>\n",
              "    <tr>\n",
              "      <th>max</th>\n",
              "      <td>2.147482e+09</td>\n",
              "      <td>0.0</td>\n",
              "      <td>14300.000000</td>\n",
              "    </tr>\n",
              "  </tbody>\n",
              "</table>\n",
              "</div>"
            ],
            "text/plain": [
              "            user_id  content_type_id  answered_correctly\n",
              "count  1.496060e+05         149606.0       149606.000000\n",
              "mean   1.076082e+09              0.0          388.078232\n",
              "std    6.203074e+08              0.0          781.313166\n",
              "min    2.746000e+03              0.0            1.000000\n",
              "25%    5.387142e+08              0.0           51.000000\n",
              "50%    1.076346e+09              0.0          134.000000\n",
              "75%    1.613497e+09              0.0          377.000000\n",
              "max    2.147482e+09              0.0        14300.000000"
            ]
          },
          "execution_count": 621,
          "metadata": {},
          "output_type": "execute_result"
        }
      ],
      "source": [
        "# получаю статистические данные по датафрэйму с пользователями, которые отвечали на вопросы и смотрели лекции\n",
        "df_temp_24.describe()"
      ]
    },
    {
      "cell_type": "markdown",
      "id": "2baee7c5-e7f7-44ac-a288-3443fd9f4efd",
      "metadata": {
        "id": "2baee7c5-e7f7-44ac-a288-3443fd9f4efd"
      },
      "source": [
        "# Визуализация"
      ]
    },
    {
      "cell_type": "code",
      "execution_count": null,
      "id": "5a492f2b-4c2f-49d1-a662-591439d608d4",
      "metadata": {
        "id": "5a492f2b-4c2f-49d1-a662-591439d608d4",
        "outputId": "a9a81771-95e6-4715-c030-b449e8aeddf0"
      },
      "outputs": [
        {
          "data": {
            "image/png": "[encoded data removed]",
            "text/plain": [
              "<Figure size 2400x600 with 1 Axes>"
            ]
          },
          "metadata": {},
          "output_type": "display_data"
        }
      ],
      "source": [
        "# график зависимости успеваемости от времени ответа\n",
        "plt.figure(figsize = (24, 6))\n",
        "plt.title('Зависимость успеваемости от времени ответа')\n",
        "plt.xlabel('Время затраченное на ответ')\n",
        "plt.ylabel('Количество верных ответов')\n",
        "plt.xlim(0, 50000)\n",
        "plt.ylim(-2, 4.5)\n",
        "plt.plot(summed_df['question_elapsed_time'], summed_df['answered_correctly'])\n",
        "plt.show()"
      ]
    },
    {
      "cell_type": "code",
      "execution_count": null,
      "id": "13bec069-544e-47ac-b861-7fad5a6b290b",
      "metadata": {
        "id": "13bec069-544e-47ac-b861-7fad5a6b290b",
        "outputId": "6d5b968d-198d-4a37-ddc6-7a1425199338"
      },
      "outputs": [
        {
          "data": {
            "text/plain": [
              "<Axes: title={'center': 'Зависимость верных ответов от полученных пояснений'}, ylabel='answered_correctly'>"
            ]
          },
          "execution_count": 101,
          "metadata": {},
          "output_type": "execute_result"
        },
        {
          "data": {
            "image/png": "[encoded data removed]",
            "text/plain": [
              "<Figure size 640x480 with 1 Axes>"
            ]
          },
          "metadata": {},
          "output_type": "display_data"
        }
      ],
      "source": [
        "\n",
        "# диаграмма зависимости успеваемости от полученных пояснений\n",
        "summed_df_2.plot.pie(y='answered_correctly', labels=summed_df_2['answered_correctly'], autopct='%1.1f%%', startangle=90,title = 'Зависимость верных ответов от полученных пояснений', fontsize=10)"
      ]
    },
    {
      "cell_type": "code",
      "execution_count": null,
      "id": "8ebfaf71-ebec-41af-878f-7649121f4781",
      "metadata": {
        "id": "8ebfaf71-ebec-41af-878f-7649121f4781",
        "outputId": "a292fa54-03f8-4d60-befb-25cccec26b1a"
      },
      "outputs": [
        {
          "data": {
            "text/plain": [
              "<Axes: title={'center': 'Зависимость верных ответов от разделов'}, ylabel='answered_correctly'>"
            ]
          },
          "execution_count": 265,
          "metadata": {},
          "output_type": "execute_result"
        },
        {
          "data": {
            "image/png": "[encoded data removed]",
            "text/plain": [
              "<Figure size 640x480 with 1 Axes>"
            ]
          },
          "metadata": {},
          "output_type": "display_data"
        }
      ],
      "source": [
        "# диаграмма зависимости успеваемости от разделов\n",
        "summed_df_3.plot.pie(y='answered_correctly', labels=summed_df_3['part'], autopct='%1.1f%%', startangle=90,title = 'Зависимость верных ответов от разделов', fontsize=10)"
      ]
    },
    {
      "cell_type": "code",
      "execution_count": null,
      "id": "e42df3c0-69b6-4306-a1c9-f14f81fde0b7",
      "metadata": {
        "id": "e42df3c0-69b6-4306-a1c9-f14f81fde0b7",
        "outputId": "03267ecb-2f31-424c-8f61-d8d96622878e"
      },
      "outputs": [
        {
          "data": {
            "image/png": "[encoded data removed]",
            "text/plain": [
              "<Figure size 2400x600 with 1 Axes>"
            ]
          },
          "metadata": {},
          "output_type": "display_data"
        }
      ],
      "source": [
        "# Зависимость верных ответов от просмотренных лекций\n",
        "plt.figure(figsize = (24, 6))\n",
        "\n",
        "sns.histplot(df_temp_16,x='content_type_id',y='answered_correctly',bins=400)\n",
        "plt.title('Зависимость верных ответов от просмотренных лекций')\n",
        "plt.xlabel('Количество просмотренных лекций')\n",
        "plt.ylabel('Количество верных ответов')\n",
        "plt.show()"
      ]
    },
    {
      "cell_type": "markdown",
      "id": "3fd035ab-2d99-4ffe-9578-c0a645bd61ba",
      "metadata": {
        "id": "3fd035ab-2d99-4ffe-9578-c0a645bd61ba"
      },
      "source": [
        "# Выводы"
      ]
    },
    {
      "cell_type": "markdown",
      "id": "54618c17-8067-40ed-89db-6bcd6f8b7df3",
      "metadata": {
        "id": "54618c17-8067-40ed-89db-6bcd6f8b7df3"
      },
      "source": [
        " ### - Наиболее легкий - 1 раздел;\n",
        " ### - Наибольшее количество верных ответов в интервале от 10 до 30 секунд на ответ:\n",
        " ### - Наибольшее количество верных ответов при полученном пояснении;\n",
        " ### - Наибольшее количество верных ответов в 5-ом разделе;\n",
        " ### - Наибольшее количество верных ответов среди пользователей, которые смотрели лекции;\n",
        " ## - На успеваемость пользователей наибольшее влияние оказали: раздел, полученные пояснения и просмотренные лекции"
      ]
    },
    {
      "cell_type": "code",
      "execution_count": null,
      "id": "9e9f90b2-29f3-465e-8a05-48c8b3d25abd",
      "metadata": {
        "id": "9e9f90b2-29f3-465e-8a05-48c8b3d25abd"
      },
      "outputs": [],
      "source": []
    }
  ],
  "metadata": {
    "kernelspec": {
      "display_name": "Python 3 (ipykernel)",
      "language": "python",
      "name": "python3"
    },
    "language_info": {
      "codemirror_mode": {
        "name": "ipython",
        "version": 3
      },
      "file_extension": ".py",
      "mimetype": "text/x-python",
      "name": "python",
      "nbconvert_exporter": "python",
      "pygments_lexer": "ipython3",
      "version": "3.12.4"
    },
    "colab": {
      "provenance": [],
      "include_colab_link": true
    }
  },
  "nbformat": 4,
  "nbformat_minor": 5
}
